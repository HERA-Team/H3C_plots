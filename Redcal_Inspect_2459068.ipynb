{
 "cells": [
  {
   "cell_type": "markdown",
   "metadata": {},
   "source": [
    "# Redundant Calibration Nightly Data Quality Notebook"
   ]
  },
  {
   "cell_type": "code",
   "execution_count": 1,
   "metadata": {
    "ExecuteTime": {
     "end_time": "2020-03-06T00:41:48.883370Z",
     "start_time": "2020-03-06T00:41:45.944574Z"
    }
   },
   "outputs": [],
   "source": [
    "import numpy as np\n",
    "import matplotlib.pyplot as plt\n",
    "import matplotlib\n",
    "from hera_cal import io, redcal, apply_cal\n",
    "from hera_qm.metrics_io import load_metric_file\n",
    "import glob\n",
    "import os\n",
    "from copy import deepcopy\n",
    "import inspect\n",
    "import h5py\n",
    "\n",
    "%matplotlib inline"
   ]
  },
  {
   "cell_type": "code",
   "execution_count": 2,
   "metadata": {
    "ExecuteTime": {
     "end_time": "2020-03-06T00:41:49.019747Z",
     "start_time": "2020-03-06T00:41:48.886475Z"
    }
   },
   "outputs": [
    {
     "name": "stdout",
     "output_type": "stream",
     "text": [
      "JD = 2459068\n",
      "data_path = /mnt/sn1\n",
      "Looking for data in /mnt/sn1 on JD 2459068\n",
      "Found 11 files.\n"
     ]
    }
   ],
   "source": [
    "# Use environment variables to figure out path to data\n",
    "JD = os.environ['JULIANDATE']\n",
    "data_path = os.environ['DATA_PATH']\n",
    "print('JD = {}'.format(JD))\n",
    "print('data_path = {}'.format(data_path))\n",
    "print('Looking for data in', data_path, 'on JD', JD)\n",
    "\n",
    "data_list = sorted(glob.glob(os.path.join(data_path, 'zen.{}.?????.sum.uvh5'.format(JD))))\n",
    "if len(data_list) == 0:\n",
    "    data_list = sorted(glob.glob(os.path.join(data_path, 'zen.{}.?????.uvh5'.format(JD))))\n",
    "print('Found {} files.'.format(len(data_list)))"
   ]
  },
  {
   "cell_type": "markdown",
   "metadata": {},
   "source": [
    "# Load Single File"
   ]
  },
  {
   "cell_type": "code",
   "execution_count": 3,
   "metadata": {
    "ExecuteTime": {
     "end_time": "2020-03-06T00:41:49.023139Z",
     "start_time": "2020-03-06T00:41:45.923Z"
    }
   },
   "outputs": [],
   "source": [
    "# Pick middle of the night data file to examine\n",
    "example_file = data_list[len(data_list)//2]\n",
    "file_JD = '.'.join([s for s in example_file.split('.') if s.isdigit()])"
   ]
  },
  {
   "cell_type": "code",
   "execution_count": 4,
   "metadata": {
    "ExecuteTime": {
     "end_time": "2020-03-06T00:41:49.024389Z",
     "start_time": "2020-03-06T00:41:45.925Z"
    }
   },
   "outputs": [],
   "source": [
    "# controls how many redundant baseline groups to plot. \n",
    "# 2 means the most common ee- and nn-polarized baseline.\n",
    "n_reds_to_plot = 2  "
   ]
  },
  {
   "cell_type": "code",
   "execution_count": 5,
   "metadata": {
    "ExecuteTime": {
     "end_time": "2020-03-06T00:41:49.025562Z",
     "start_time": "2020-03-06T00:41:45.926Z"
    }
   },
   "outputs": [
    {
     "ename": "ValueError",
     "evalue": "bls must be a list of tuples of antenna numbers (optionally with polarization).",
     "output_type": "error",
     "traceback": [
      "\u001b[0;31m---------------------------------------------------------------------------\u001b[0m",
      "\u001b[0;31mValueError\u001b[0m                                Traceback (most recent call last)",
      "\u001b[0;32m<ipython-input-5-a4ff12fe5e6b>\u001b[0m in \u001b[0;36m<module>\u001b[0;34m\u001b[0m\n\u001b[1;32m     11\u001b[0m \u001b[0mreds\u001b[0m \u001b[0;34m=\u001b[0m \u001b[0msorted\u001b[0m\u001b[0;34m(\u001b[0m\u001b[0mreds\u001b[0m\u001b[0;34m,\u001b[0m \u001b[0mkey\u001b[0m\u001b[0;34m=\u001b[0m\u001b[0mlen\u001b[0m\u001b[0;34m,\u001b[0m \u001b[0mreverse\u001b[0m\u001b[0;34m=\u001b[0m\u001b[0;32mTrue\u001b[0m\u001b[0;34m)\u001b[0m\u001b[0;34m\u001b[0m\u001b[0;34m\u001b[0m\u001b[0m\n\u001b[1;32m     12\u001b[0m data, flags, nsamples = hd.read(\n\u001b[0;32m---> 13\u001b[0;31m     bls=[bl for red in reds[0:n_reds_to_plot] for bl in red])\n\u001b[0m\u001b[1;32m     14\u001b[0m \u001b[0mapply_cal\u001b[0m\u001b[0;34m.\u001b[0m\u001b[0mcalibrate_in_place\u001b[0m\u001b[0;34m(\u001b[0m\u001b[0mdata\u001b[0m\u001b[0;34m,\u001b[0m \u001b[0mgains\u001b[0m\u001b[0;34m,\u001b[0m \u001b[0mdata_flags\u001b[0m\u001b[0;34m=\u001b[0m\u001b[0mflags\u001b[0m\u001b[0;34m,\u001b[0m \u001b[0mcal_flags\u001b[0m\u001b[0;34m=\u001b[0m\u001b[0mgain_flags\u001b[0m\u001b[0;34m)\u001b[0m\u001b[0;34m\u001b[0m\u001b[0;34m\u001b[0m\u001b[0m\n\u001b[1;32m     15\u001b[0m \u001b[0;34m\u001b[0m\u001b[0m\n",
      "\u001b[0;32m~/anaconda/envs/RTP/lib/python3.7/site-packages/hera_cal/io.py\u001b[0m in \u001b[0;36mread\u001b[0;34m(self, bls, polarizations, times, frequencies, freq_chans, axis, read_data, return_data, run_check, check_extra, run_check_acceptability)\u001b[0m\n\u001b[1;32m    435\u001b[0m                     super().read(self.filepaths, file_type='uvh5', axis=axis, bls=bls, polarizations=polarizations,\n\u001b[1;32m    436\u001b[0m                                  \u001b[0mtimes\u001b[0m\u001b[0;34m=\u001b[0m\u001b[0mtimes\u001b[0m\u001b[0;34m,\u001b[0m \u001b[0mfrequencies\u001b[0m\u001b[0;34m=\u001b[0m\u001b[0mfrequencies\u001b[0m\u001b[0;34m,\u001b[0m \u001b[0mfreq_chans\u001b[0m\u001b[0;34m=\u001b[0m\u001b[0mfreq_chans\u001b[0m\u001b[0;34m,\u001b[0m \u001b[0mread_data\u001b[0m\u001b[0;34m=\u001b[0m\u001b[0mread_data\u001b[0m\u001b[0;34m,\u001b[0m\u001b[0;34m\u001b[0m\u001b[0;34m\u001b[0m\u001b[0m\n\u001b[0;32m--> 437\u001b[0;31m                                  run_check=run_check, check_extra=check_extra, run_check_acceptability=run_check_acceptability)\n\u001b[0m\u001b[1;32m    438\u001b[0m                 \u001b[0;32melse\u001b[0m\u001b[0;34m:\u001b[0m\u001b[0;34m\u001b[0m\u001b[0;34m\u001b[0m\u001b[0m\n\u001b[1;32m    439\u001b[0m                     \u001b[0;32mif\u001b[0m \u001b[0;32mnot\u001b[0m \u001b[0mread_data\u001b[0m\u001b[0;34m:\u001b[0m\u001b[0;34m\u001b[0m\u001b[0;34m\u001b[0m\u001b[0m\n",
      "\u001b[0;32m~/anaconda/envs/RTP/lib/python3.7/site-packages/pyuvdata/uvdata/uvdata.py\u001b[0m in \u001b[0;36mread\u001b[0;34m(self, filename, axis, file_type, allow_rephase, phase_center_radec, unphase_to_drift, phase_frame, orig_phase_frame, phase_use_ant_pos, antenna_nums, antenna_names, ant_str, bls, frequencies, freq_chans, times, polarizations, blt_inds, time_range, keep_all_metadata, read_data, phase_type, correct_lat_lon, use_model, data_column, pol_order, data_array_dtype, use_cotter_flags, correct_cable_len, flag_init, edge_width, start_flag, end_flag, flag_dc_offset, phase_to_pointing_center, run_check, check_extra, run_check_acceptability, skip_bad_files)\u001b[0m\n\u001b[1;32m   6468\u001b[0m                         \u001b[0mcheck_extra\u001b[0m\u001b[0;34m=\u001b[0m\u001b[0mcheck_extra\u001b[0m\u001b[0;34m,\u001b[0m\u001b[0;34m\u001b[0m\u001b[0;34m\u001b[0m\u001b[0m\n\u001b[1;32m   6469\u001b[0m                         \u001b[0mrun_check_acceptability\u001b[0m\u001b[0;34m=\u001b[0m\u001b[0mrun_check_acceptability\u001b[0m\u001b[0;34m,\u001b[0m\u001b[0;34m\u001b[0m\u001b[0;34m\u001b[0m\u001b[0m\n\u001b[0;32m-> 6470\u001b[0;31m                         \u001b[0mskip_bad_files\u001b[0m\u001b[0;34m=\u001b[0m\u001b[0mskip_bad_files\u001b[0m\u001b[0;34m,\u001b[0m\u001b[0;34m\u001b[0m\u001b[0;34m\u001b[0m\u001b[0m\n\u001b[0m\u001b[1;32m   6471\u001b[0m                     )\n\u001b[1;32m   6472\u001b[0m                     \u001b[0munread\u001b[0m \u001b[0;34m=\u001b[0m \u001b[0;32mFalse\u001b[0m\u001b[0;34m\u001b[0m\u001b[0;34m\u001b[0m\u001b[0m\n",
      "\u001b[0;32m~/anaconda/envs/RTP/lib/python3.7/site-packages/pyuvdata/uvdata/uvdata.py\u001b[0m in \u001b[0;36mread\u001b[0;34m(self, filename, axis, file_type, allow_rephase, phase_center_radec, unphase_to_drift, phase_frame, orig_phase_frame, phase_use_ant_pos, antenna_nums, antenna_names, ant_str, bls, frequencies, freq_chans, times, polarizations, blt_inds, time_range, keep_all_metadata, read_data, phase_type, correct_lat_lon, use_model, data_column, pol_order, data_array_dtype, use_cotter_flags, correct_cable_len, flag_init, edge_width, start_flag, end_flag, flag_dc_offset, phase_to_pointing_center, run_check, check_extra, run_check_acceptability, skip_bad_files)\u001b[0m\n\u001b[1;32m   6726\u001b[0m                     \u001b[0mrun_check_acceptability\u001b[0m\u001b[0;34m=\u001b[0m\u001b[0mrun_check_acceptability\u001b[0m\u001b[0;34m,\u001b[0m\u001b[0;34m\u001b[0m\u001b[0;34m\u001b[0m\u001b[0m\n\u001b[1;32m   6727\u001b[0m                     \u001b[0mdata_array_dtype\u001b[0m\u001b[0;34m=\u001b[0m\u001b[0mdata_array_dtype\u001b[0m\u001b[0;34m,\u001b[0m\u001b[0;34m\u001b[0m\u001b[0;34m\u001b[0m\u001b[0m\n\u001b[0;32m-> 6728\u001b[0;31m                     \u001b[0mkeep_all_metadata\u001b[0m\u001b[0;34m=\u001b[0m\u001b[0mkeep_all_metadata\u001b[0m\u001b[0;34m,\u001b[0m\u001b[0;34m\u001b[0m\u001b[0;34m\u001b[0m\u001b[0m\n\u001b[0m\u001b[1;32m   6729\u001b[0m                 )\n\u001b[1;32m   6730\u001b[0m                 \u001b[0mselect\u001b[0m \u001b[0;34m=\u001b[0m \u001b[0;32mFalse\u001b[0m\u001b[0;34m\u001b[0m\u001b[0;34m\u001b[0m\u001b[0m\n",
      "\u001b[0;32m~/anaconda/envs/RTP/lib/python3.7/site-packages/pyuvdata/uvdata/uvdata.py\u001b[0m in \u001b[0;36mread_uvh5\u001b[0;34m(self, filename, axis, antenna_nums, antenna_names, ant_str, bls, frequencies, freq_chans, times, time_range, polarizations, blt_inds, keep_all_metadata, read_data, data_array_dtype, run_check, check_extra, run_check_acceptability)\u001b[0m\n\u001b[1;32m   6129\u001b[0m             \u001b[0mrun_check_acceptability\u001b[0m\u001b[0;34m=\u001b[0m\u001b[0mrun_check_acceptability\u001b[0m\u001b[0;34m,\u001b[0m\u001b[0;34m\u001b[0m\u001b[0;34m\u001b[0m\u001b[0m\n\u001b[1;32m   6130\u001b[0m             \u001b[0mdata_array_dtype\u001b[0m\u001b[0;34m=\u001b[0m\u001b[0mdata_array_dtype\u001b[0m\u001b[0;34m,\u001b[0m\u001b[0;34m\u001b[0m\u001b[0;34m\u001b[0m\u001b[0m\n\u001b[0;32m-> 6131\u001b[0;31m             \u001b[0mkeep_all_metadata\u001b[0m\u001b[0;34m=\u001b[0m\u001b[0mkeep_all_metadata\u001b[0m\u001b[0;34m,\u001b[0m\u001b[0;34m\u001b[0m\u001b[0;34m\u001b[0m\u001b[0m\n\u001b[0m\u001b[1;32m   6132\u001b[0m         )\n\u001b[1;32m   6133\u001b[0m         \u001b[0mself\u001b[0m\u001b[0;34m.\u001b[0m\u001b[0m_convert_from_filetype\u001b[0m\u001b[0;34m(\u001b[0m\u001b[0muvh5_obj\u001b[0m\u001b[0;34m)\u001b[0m\u001b[0;34m\u001b[0m\u001b[0;34m\u001b[0m\u001b[0m\n",
      "\u001b[0;32m~/anaconda/envs/RTP/lib/python3.7/site-packages/pyuvdata/uvdata/uvh5.py\u001b[0m in \u001b[0;36mread_uvh5\u001b[0;34m(self, filename, antenna_nums, antenna_names, ant_str, bls, frequencies, freq_chans, times, time_range, polarizations, blt_inds, read_data, run_check, check_extra, run_check_acceptability, data_array_dtype, keep_all_metadata)\u001b[0m\n\u001b[1;32m    659\u001b[0m                 \u001b[0mrun_check_acceptability\u001b[0m\u001b[0;34m,\u001b[0m\u001b[0;34m\u001b[0m\u001b[0;34m\u001b[0m\u001b[0m\n\u001b[1;32m    660\u001b[0m                 \u001b[0mdata_array_dtype\u001b[0m\u001b[0;34m,\u001b[0m\u001b[0;34m\u001b[0m\u001b[0;34m\u001b[0m\u001b[0m\n\u001b[0;32m--> 661\u001b[0;31m                 \u001b[0mkeep_all_metadata\u001b[0m\u001b[0;34m,\u001b[0m\u001b[0;34m\u001b[0m\u001b[0;34m\u001b[0m\u001b[0m\n\u001b[0m\u001b[1;32m    662\u001b[0m             )\n\u001b[1;32m    663\u001b[0m \u001b[0;34m\u001b[0m\u001b[0m\n",
      "\u001b[0;32m~/anaconda/envs/RTP/lib/python3.7/site-packages/pyuvdata/uvdata/uvh5.py\u001b[0m in \u001b[0;36m_get_data\u001b[0;34m(self, dgrp, antenna_nums, antenna_names, ant_str, bls, frequencies, freq_chans, times, time_range, polarizations, blt_inds, run_check, check_extra, run_check_acceptability, data_array_dtype, keep_all_metadata)\u001b[0m\n\u001b[1;32m    382\u001b[0m             \u001b[0mtime_range\u001b[0m\u001b[0;34m,\u001b[0m\u001b[0;34m\u001b[0m\u001b[0;34m\u001b[0m\u001b[0m\n\u001b[1;32m    383\u001b[0m             \u001b[0mpolarizations\u001b[0m\u001b[0;34m,\u001b[0m\u001b[0;34m\u001b[0m\u001b[0;34m\u001b[0m\u001b[0m\n\u001b[0;32m--> 384\u001b[0;31m             \u001b[0mblt_inds\u001b[0m\u001b[0;34m,\u001b[0m\u001b[0;34m\u001b[0m\u001b[0;34m\u001b[0m\u001b[0m\n\u001b[0m\u001b[1;32m    385\u001b[0m         )\n\u001b[1;32m    386\u001b[0m \u001b[0;34m\u001b[0m\u001b[0m\n",
      "\u001b[0;32m~/anaconda/envs/RTP/lib/python3.7/site-packages/pyuvdata/uvdata/uvdata.py\u001b[0m in \u001b[0;36m_select_preprocess\u001b[0;34m(self, antenna_nums, antenna_names, ant_str, bls, frequencies, freq_chans, times, time_range, polarizations, blt_inds)\u001b[0m\n\u001b[1;32m   4007\u001b[0m             \u001b[0;32mif\u001b[0m \u001b[0mlen\u001b[0m\u001b[0;34m(\u001b[0m\u001b[0mbls\u001b[0m\u001b[0;34m)\u001b[0m \u001b[0;34m==\u001b[0m \u001b[0;36m0\u001b[0m \u001b[0;32mor\u001b[0m \u001b[0;32mnot\u001b[0m \u001b[0mall\u001b[0m\u001b[0;34m(\u001b[0m\u001b[0misinstance\u001b[0m\u001b[0;34m(\u001b[0m\u001b[0mitem\u001b[0m\u001b[0;34m,\u001b[0m \u001b[0mtuple\u001b[0m\u001b[0;34m)\u001b[0m \u001b[0;32mfor\u001b[0m \u001b[0mitem\u001b[0m \u001b[0;32min\u001b[0m \u001b[0mbls\u001b[0m\u001b[0;34m)\u001b[0m\u001b[0;34m:\u001b[0m\u001b[0;34m\u001b[0m\u001b[0;34m\u001b[0m\u001b[0m\n\u001b[1;32m   4008\u001b[0m                 raise ValueError(\n\u001b[0;32m-> 4009\u001b[0;31m                     \u001b[0;34m\"bls must be a list of tuples of antenna numbers \"\u001b[0m\u001b[0;34m\u001b[0m\u001b[0;34m\u001b[0m\u001b[0m\n\u001b[0m\u001b[1;32m   4010\u001b[0m                     \u001b[0;34m\"(optionally with polarization).\"\u001b[0m\u001b[0;34m\u001b[0m\u001b[0;34m\u001b[0m\u001b[0m\n\u001b[1;32m   4011\u001b[0m                 )\n",
      "\u001b[0;31mValueError\u001b[0m: bls must be a list of tuples of antenna numbers (optionally with polarization)."
     ]
    }
   ],
   "source": [
    "# Load omnical gains and determine ex_ants\n",
    "hc = io.HERACal(example_file.replace('.uvh5', '.omni.calfits'))\n",
    "gains, gain_flags, _, _ = hc.read()\n",
    "ex_ants = [ant for ant in gain_flags if np.all(gain_flags[ant])]\n",
    "\n",
    "# Load the most common redundant baselines and calibrate\n",
    "hd = io.HERAData(example_file)\n",
    "reds = redcal.get_reds(hd.antpos, pols=['ee', 'nn'])\n",
    "red_bl_map = {bl: red[0] for red in reds for bl in red} \n",
    "reds = redcal.filter_reds(reds, ex_ants=ex_ants)\n",
    "reds = sorted(reds, key=len, reverse=True)\n",
    "data, flags, nsamples = hd.read(\n",
    "    bls=[bl for red in reds[0:n_reds_to_plot] for bl in red])\n",
    "apply_cal.calibrate_in_place(data, gains, data_flags=flags, cal_flags=gain_flags)\n",
    "\n",
    "# Load omnical visibility solutions\n",
    "hdo = io.HERAData(example_file.replace('.uvh5', '.omni_vis.uvh5'))\n",
    "omni_data, omni_flags, omni_nsamples = hdo.read(\n",
    "    bls=[red_bl_map[red[0]] for red in reds[0:n_reds_to_plot]])"
   ]
  },
  {
   "cell_type": "markdown",
   "metadata": {},
   "source": [
    "# Inspect Single File"
   ]
  },
  {
   "cell_type": "code",
   "execution_count": 6,
   "metadata": {
    "ExecuteTime": {
     "end_time": "2020-03-06T00:41:49.026696Z",
     "start_time": "2020-03-06T00:41:45.929Z"
    }
   },
   "outputs": [
    {
     "data": {
      "image/png": "[encoded data removed]",
      "text/plain": [
       "<Figure size 576x576 with 1 Axes>"
      ]
     },
     "metadata": {
      "needs_background": "light"
     },
     "output_type": "display_data"
    }
   ],
   "source": [
    "plt.figure(figsize=(8,8))\n",
    "plt.scatter(np.array(list(hd.antpos.values()))[:,0], \n",
    "            np.array(list(hd.antpos.values()))[:,1], c='w', s=0)\n",
    "for ant,pos in hd.antpos.items():\n",
    "    bad = ant in [ant[0] for ant in ex_ants]\n",
    "    plt.gca().add_artist(plt.Circle(tuple(pos[0:2]), radius=7, \n",
    "                                    fill=(~bad), color=['grey','r'][bad]))\n",
    "    plt.text(pos[0],pos[1],str(ant), va='center', ha='center', color='w')\n",
    "plt.xlabel(\"Antenna East-West Position (meters)\")\n",
    "plt.ylabel(\"Antenna North-South Position (meters)\")\n",
    "plt.title('Antenna Positions on {} (Red = Flagged)'.format(file_JD));\n",
    "plt.axis('equal')\n",
    "plt.tight_layout()\n",
    "plt.show()"
   ]
  },
  {
   "cell_type": "markdown",
   "metadata": {},
   "source": [
    "### Figure 1: Array and Flagged Antennas\n",
    "\n",
    "#### OBSERVER CHECKLIST:\n",
    "* Check that the array configuration looks reasonable.\n",
    "* Check that all flags expected to be flagged are actually flagged but also that not everything is getting flagged."
   ]
  },
  {
   "cell_type": "code",
   "execution_count": 7,
   "metadata": {
    "ExecuteTime": {
     "end_time": "2020-03-06T00:41:49.027601Z",
     "start_time": "2020-03-06T00:41:45.931Z"
    },
    "scrolled": false
   },
   "outputs": [],
   "source": [
    "# Plot redundant groups\n",
    "for red in reds[0:n_reds_to_plot]:\n",
    "    blvec = hd.antpos[red[0][1]] - hd.antpos[red[0][0]]\n",
    "    for func, plot, ylabel in zip([np.abs, np.angle], [plt.semilogy, plt.plot], ['Amplitude (Arbitrary Units)', 'Phase (Radians)']):\n",
    "        plt.figure(figsize=(16,4))\n",
    "        for bl in red:\n",
    "            plot(hd.freqs/1e6, func(np.median(data[bl], axis=0)))\n",
    "        plot(hd.freqs/1e6, func(np.median(omni_data[red_bl_map[red[0]]], axis=0)), 'k-', label='Omnical Visibility Solution')\n",
    "        plt.xlabel('Frequency (MHz)')\n",
    "        plt.ylabel(ylabel)\n",
    "        plt.legend(loc='lower right')\n",
    "        plt.title('{}-Polarized, {:f} m East, {:f} m North Visibility on {}'.format(red[0][2], blvec[0], blvec[1], file_JD))"
   ]
  },
  {
   "cell_type": "markdown",
   "metadata": {},
   "source": [
    "### Figure 2: Example redundant baseline groups and omnical visibility solution for a single file.\n",
    "\n",
    "\n",
    "#### OBSERVER CHECKLIST:\n",
    "* Check that that there actually is something plotted and the data isn't all flagged somehow.\n",
    "* Check whether most of the baselines cluster together and that the black line follows the cluster.\n",
    "* Check whether there are any significant outliers (though it won't be clear as yet which antennas those are attributable to, see below)."
   ]
  },
  {
   "cell_type": "markdown",
   "metadata": {},
   "source": [
    "# Load Whole Day"
   ]
  },
  {
   "cell_type": "code",
   "execution_count": 8,
   "metadata": {
    "ExecuteTime": {
     "end_time": "2020-03-06T00:41:49.028652Z",
     "start_time": "2020-03-06T00:41:45.933Z"
    }
   },
   "outputs": [
    {
     "ename": "OSError",
     "evalue": "Unable to open file (unable to open file: name = '/mnt/sn1/zen.2459068.04918.sum.redcal_meta.hdf5', errno = 2, error message = 'No such file or directory', flags = 0, o_flags = 0)",
     "output_type": "error",
     "traceback": [
      "\u001b[0;31m---------------------------------------------------------------------------\u001b[0m",
      "\u001b[0;31mOSError\u001b[0m                                   Traceback (most recent call last)",
      "\u001b[0;32m<ipython-input-8-e10a23030bbc>\u001b[0m in \u001b[0;36m<module>\u001b[0;34m\u001b[0m\n\u001b[1;32m     11\u001b[0m \u001b[0;32mfor\u001b[0m \u001b[0mmf\u001b[0m \u001b[0;32min\u001b[0m \u001b[0mmeta_list\u001b[0m\u001b[0;34m:\u001b[0m\u001b[0;34m\u001b[0m\u001b[0;34m\u001b[0m\u001b[0m\n\u001b[1;32m     12\u001b[0m     (fc_meta, omni_meta, freqs, times_dict[mf], lsts_dict[mf], \n\u001b[0;32m---> 13\u001b[0;31m      antpos, histories_dict[mf]) = io.read_redcal_meta(mf)\n\u001b[0m\u001b[1;32m     14\u001b[0m     \u001b[0mee_iters_dict\u001b[0m\u001b[0;34m[\u001b[0m\u001b[0mmf\u001b[0m\u001b[0;34m]\u001b[0m \u001b[0;34m=\u001b[0m \u001b[0momni_meta\u001b[0m\u001b[0;34m[\u001b[0m\u001b[0;34m'iter'\u001b[0m\u001b[0;34m]\u001b[0m\u001b[0;34m[\u001b[0m\u001b[0;34m\"['ee']\"\u001b[0m\u001b[0;34m]\u001b[0m\u001b[0;34m\u001b[0m\u001b[0;34m\u001b[0m\u001b[0m\n\u001b[1;32m     15\u001b[0m     \u001b[0mnn_iters_dict\u001b[0m\u001b[0;34m[\u001b[0m\u001b[0mmf\u001b[0m\u001b[0;34m]\u001b[0m \u001b[0;34m=\u001b[0m \u001b[0momni_meta\u001b[0m\u001b[0;34m[\u001b[0m\u001b[0;34m'iter'\u001b[0m\u001b[0;34m]\u001b[0m\u001b[0;34m[\u001b[0m\u001b[0;34m\"['nn']\"\u001b[0m\u001b[0;34m]\u001b[0m\u001b[0;34m\u001b[0m\u001b[0;34m\u001b[0m\u001b[0m\n",
      "\u001b[0;32m~/anaconda/envs/RTP/lib/python3.7/site-packages/hera_cal/io.py\u001b[0m in \u001b[0;36mread_redcal_meta\u001b[0;34m(meta_filename)\u001b[0m\n\u001b[1;32m    911\u001b[0m         \u001b[0mhistory\u001b[0m\u001b[0;34m:\u001b[0m \u001b[0mstring\u001b[0m \u001b[0mdescribing\u001b[0m \u001b[0mthe\u001b[0m \u001b[0mcreation\u001b[0m \u001b[0mof\u001b[0m \u001b[0mthis\u001b[0m \u001b[0mfile\u001b[0m\u001b[0;34m\u001b[0m\u001b[0;34m\u001b[0m\u001b[0m\n\u001b[1;32m    912\u001b[0m     '''\n\u001b[0;32m--> 913\u001b[0;31m     \u001b[0;32mwith\u001b[0m \u001b[0mh5py\u001b[0m\u001b[0;34m.\u001b[0m\u001b[0mFile\u001b[0m\u001b[0;34m(\u001b[0m\u001b[0mmeta_filename\u001b[0m\u001b[0;34m,\u001b[0m \u001b[0;34m\"r\"\u001b[0m\u001b[0;34m)\u001b[0m \u001b[0;32mas\u001b[0m \u001b[0minfile\u001b[0m\u001b[0;34m:\u001b[0m\u001b[0;34m\u001b[0m\u001b[0;34m\u001b[0m\u001b[0m\n\u001b[0m\u001b[1;32m    914\u001b[0m         \u001b[0;31m# decode metadata of metadata\u001b[0m\u001b[0;34m\u001b[0m\u001b[0;34m\u001b[0m\u001b[0;34m\u001b[0m\u001b[0m\n\u001b[1;32m    915\u001b[0m         \u001b[0mfreqs\u001b[0m \u001b[0;34m=\u001b[0m \u001b[0minfile\u001b[0m\u001b[0;34m[\u001b[0m\u001b[0;34m'header'\u001b[0m\u001b[0;34m]\u001b[0m\u001b[0;34m[\u001b[0m\u001b[0;34m'freqs'\u001b[0m\u001b[0;34m]\u001b[0m\u001b[0;34m[\u001b[0m\u001b[0;34m:\u001b[0m\u001b[0;34m]\u001b[0m\u001b[0;34m\u001b[0m\u001b[0;34m\u001b[0m\u001b[0m\n",
      "\u001b[0;32m~/anaconda/envs/RTP/lib/python3.7/site-packages/h5py/_hl/files.py\u001b[0m in \u001b[0;36m__init__\u001b[0;34m(self, name, mode, driver, libver, userblock_size, swmr, rdcc_nslots, rdcc_nbytes, rdcc_w0, track_order, **kwds)\u001b[0m\n\u001b[1;32m    392\u001b[0m                 fid = make_fid(name, mode, userblock_size,\n\u001b[1;32m    393\u001b[0m                                \u001b[0mfapl\u001b[0m\u001b[0;34m,\u001b[0m \u001b[0mfcpl\u001b[0m\u001b[0;34m=\u001b[0m\u001b[0mmake_fcpl\u001b[0m\u001b[0;34m(\u001b[0m\u001b[0mtrack_order\u001b[0m\u001b[0;34m=\u001b[0m\u001b[0mtrack_order\u001b[0m\u001b[0;34m)\u001b[0m\u001b[0;34m,\u001b[0m\u001b[0;34m\u001b[0m\u001b[0;34m\u001b[0m\u001b[0m\n\u001b[0;32m--> 394\u001b[0;31m                                swmr=swmr)\n\u001b[0m\u001b[1;32m    395\u001b[0m \u001b[0;34m\u001b[0m\u001b[0m\n\u001b[1;32m    396\u001b[0m             \u001b[0;32mif\u001b[0m \u001b[0mswmr_support\u001b[0m\u001b[0;34m:\u001b[0m\u001b[0;34m\u001b[0m\u001b[0;34m\u001b[0m\u001b[0m\n",
      "\u001b[0;32m~/anaconda/envs/RTP/lib/python3.7/site-packages/h5py/_hl/files.py\u001b[0m in \u001b[0;36mmake_fid\u001b[0;34m(name, mode, userblock_size, fapl, fcpl, swmr)\u001b[0m\n\u001b[1;32m    168\u001b[0m         \u001b[0;32mif\u001b[0m \u001b[0mswmr\u001b[0m \u001b[0;32mand\u001b[0m \u001b[0mswmr_support\u001b[0m\u001b[0;34m:\u001b[0m\u001b[0;34m\u001b[0m\u001b[0;34m\u001b[0m\u001b[0m\n\u001b[1;32m    169\u001b[0m             \u001b[0mflags\u001b[0m \u001b[0;34m|=\u001b[0m \u001b[0mh5f\u001b[0m\u001b[0;34m.\u001b[0m\u001b[0mACC_SWMR_READ\u001b[0m\u001b[0;34m\u001b[0m\u001b[0;34m\u001b[0m\u001b[0m\n\u001b[0;32m--> 170\u001b[0;31m         \u001b[0mfid\u001b[0m \u001b[0;34m=\u001b[0m \u001b[0mh5f\u001b[0m\u001b[0;34m.\u001b[0m\u001b[0mopen\u001b[0m\u001b[0;34m(\u001b[0m\u001b[0mname\u001b[0m\u001b[0;34m,\u001b[0m \u001b[0mflags\u001b[0m\u001b[0;34m,\u001b[0m \u001b[0mfapl\u001b[0m\u001b[0;34m=\u001b[0m\u001b[0mfapl\u001b[0m\u001b[0;34m)\u001b[0m\u001b[0;34m\u001b[0m\u001b[0;34m\u001b[0m\u001b[0m\n\u001b[0m\u001b[1;32m    171\u001b[0m     \u001b[0;32melif\u001b[0m \u001b[0mmode\u001b[0m \u001b[0;34m==\u001b[0m \u001b[0;34m'r+'\u001b[0m\u001b[0;34m:\u001b[0m\u001b[0;34m\u001b[0m\u001b[0;34m\u001b[0m\u001b[0m\n\u001b[1;32m    172\u001b[0m         \u001b[0mfid\u001b[0m \u001b[0;34m=\u001b[0m \u001b[0mh5f\u001b[0m\u001b[0;34m.\u001b[0m\u001b[0mopen\u001b[0m\u001b[0;34m(\u001b[0m\u001b[0mname\u001b[0m\u001b[0;34m,\u001b[0m \u001b[0mh5f\u001b[0m\u001b[0;34m.\u001b[0m\u001b[0mACC_RDWR\u001b[0m\u001b[0;34m,\u001b[0m \u001b[0mfapl\u001b[0m\u001b[0;34m=\u001b[0m\u001b[0mfapl\u001b[0m\u001b[0;34m)\u001b[0m\u001b[0;34m\u001b[0m\u001b[0;34m\u001b[0m\u001b[0m\n",
      "\u001b[0;32mh5py/_objects.pyx\u001b[0m in \u001b[0;36mh5py._objects.with_phil.wrapper\u001b[0;34m()\u001b[0m\n",
      "\u001b[0;32mh5py/_objects.pyx\u001b[0m in \u001b[0;36mh5py._objects.with_phil.wrapper\u001b[0;34m()\u001b[0m\n",
      "\u001b[0;32mh5py/h5f.pyx\u001b[0m in \u001b[0;36mh5py.h5f.open\u001b[0;34m()\u001b[0m\n",
      "\u001b[0;31mOSError\u001b[0m: Unable to open file (unable to open file: name = '/mnt/sn1/zen.2459068.04918.sum.redcal_meta.hdf5', errno = 2, error message = 'No such file or directory', flags = 0, o_flags = 0)"
     ]
    }
   ],
   "source": [
    "# load all redcal metadata into dictionaries \n",
    "meta_list = [df.replace('.uvh5', '.redcal_meta.hdf5') for df in data_list]\n",
    "ee_iters_dict = {}\n",
    "nn_iters_dict = {}\n",
    "dlys_dict = {}\n",
    "flips_dict = {}\n",
    "times_dict = {}\n",
    "lsts_dict = {}\n",
    "histories_dict = {}\n",
    "ants = set([])\n",
    "for mf in meta_list:\n",
    "    (fc_meta, omni_meta, freqs, times_dict[mf], lsts_dict[mf], \n",
    "     antpos, histories_dict[mf]) = io.read_redcal_meta(mf)\n",
    "    ee_iters_dict[mf] = omni_meta['iter'][\"['ee']\"]\n",
    "    nn_iters_dict[mf] = omni_meta['iter'][\"['nn']\"]\n",
    "    flips_dict[mf] = fc_meta['polarity_flips']\n",
    "    dlys_dict[mf] = fc_meta['dlys']\n",
    "    ants |= set(fc_meta['dlys'].keys())\n",
    "    \n",
    "ants = sorted(ants)\n",
    "times = np.array(list(times_dict.values())).flatten()\n",
    "lsts = np.array(list(lsts_dict.values())).flatten()"
   ]
  },
  {
   "cell_type": "code",
   "execution_count": 9,
   "metadata": {
    "ExecuteTime": {
     "end_time": "2020-03-06T00:41:49.029408Z",
     "start_time": "2020-03-06T00:41:45.934Z"
    }
   },
   "outputs": [],
   "source": [
    "# Load aprior statuses from histories\n",
    "apriori_exants = {}\n",
    "for mf in histories_dict:\n",
    "    ex_ants_string = histories_dict[mf].split('--ex_ants')[1].split('--')[0].strip()\n",
    "    apriori_exants[mf] = [int(ant) for ant in ex_ants_string.split()]"
   ]
  },
  {
   "cell_type": "code",
   "execution_count": 10,
   "metadata": {
    "ExecuteTime": {
     "end_time": "2020-03-06T00:41:49.030169Z",
     "start_time": "2020-03-06T00:41:45.936Z"
    }
   },
   "outputs": [
    {
     "ename": "OSError",
     "evalue": "Unable to open file (unable to open file: name = '/mnt/sn1/zen.2459068.04918.sum.ant_metrics.hdf5', errno = 2, error message = 'No such file or directory', flags = 0, o_flags = 0)",
     "output_type": "error",
     "traceback": [
      "\u001b[0;31m---------------------------------------------------------------------------\u001b[0m",
      "\u001b[0;31mOSError\u001b[0m                                   Traceback (most recent call last)",
      "\u001b[0;32m<ipython-input-10-506107a17332>\u001b[0m in \u001b[0;36m<module>\u001b[0;34m\u001b[0m\n\u001b[1;32m      3\u001b[0m \u001b[0mam_xants_dict\u001b[0m \u001b[0;34m=\u001b[0m \u001b[0;34m{\u001b[0m\u001b[0;34m}\u001b[0m\u001b[0;34m\u001b[0m\u001b[0;34m\u001b[0m\u001b[0m\n\u001b[1;32m      4\u001b[0m \u001b[0;32mfor\u001b[0m \u001b[0mamf\u001b[0m \u001b[0;32min\u001b[0m \u001b[0mant_metrics_list\u001b[0m\u001b[0;34m:\u001b[0m\u001b[0;34m\u001b[0m\u001b[0;34m\u001b[0m\u001b[0m\n\u001b[0;32m----> 5\u001b[0;31m     \u001b[0;32mwith\u001b[0m \u001b[0mh5py\u001b[0m\u001b[0;34m.\u001b[0m\u001b[0mFile\u001b[0m\u001b[0;34m(\u001b[0m\u001b[0mamf\u001b[0m\u001b[0;34m,\u001b[0m \u001b[0;34m\"r\"\u001b[0m\u001b[0;34m)\u001b[0m \u001b[0;32mas\u001b[0m \u001b[0minfile\u001b[0m\u001b[0;34m:\u001b[0m\u001b[0;34m\u001b[0m\u001b[0;34m\u001b[0m\u001b[0m\n\u001b[0m\u001b[1;32m      6\u001b[0m         \u001b[0mxants\u001b[0m \u001b[0;34m=\u001b[0m \u001b[0minfile\u001b[0m\u001b[0;34m[\u001b[0m\u001b[0;34m'Metrics'\u001b[0m\u001b[0;34m]\u001b[0m\u001b[0;34m[\u001b[0m\u001b[0;34m'xants'\u001b[0m\u001b[0;34m]\u001b[0m\u001b[0;34m[\u001b[0m\u001b[0;34m:\u001b[0m\u001b[0;34m]\u001b[0m\u001b[0;34m\u001b[0m\u001b[0;34m\u001b[0m\u001b[0m\n\u001b[1;32m      7\u001b[0m     am_xants_dict[amf] = [(int(ant[0]), ant[1].tostring().decode('utf8').replace('n',\n",
      "\u001b[0;32m~/anaconda/envs/RTP/lib/python3.7/site-packages/h5py/_hl/files.py\u001b[0m in \u001b[0;36m__init__\u001b[0;34m(self, name, mode, driver, libver, userblock_size, swmr, rdcc_nslots, rdcc_nbytes, rdcc_w0, track_order, **kwds)\u001b[0m\n\u001b[1;32m    392\u001b[0m                 fid = make_fid(name, mode, userblock_size,\n\u001b[1;32m    393\u001b[0m                                \u001b[0mfapl\u001b[0m\u001b[0;34m,\u001b[0m \u001b[0mfcpl\u001b[0m\u001b[0;34m=\u001b[0m\u001b[0mmake_fcpl\u001b[0m\u001b[0;34m(\u001b[0m\u001b[0mtrack_order\u001b[0m\u001b[0;34m=\u001b[0m\u001b[0mtrack_order\u001b[0m\u001b[0;34m)\u001b[0m\u001b[0;34m,\u001b[0m\u001b[0;34m\u001b[0m\u001b[0;34m\u001b[0m\u001b[0m\n\u001b[0;32m--> 394\u001b[0;31m                                swmr=swmr)\n\u001b[0m\u001b[1;32m    395\u001b[0m \u001b[0;34m\u001b[0m\u001b[0m\n\u001b[1;32m    396\u001b[0m             \u001b[0;32mif\u001b[0m \u001b[0mswmr_support\u001b[0m\u001b[0;34m:\u001b[0m\u001b[0;34m\u001b[0m\u001b[0;34m\u001b[0m\u001b[0m\n",
      "\u001b[0;32m~/anaconda/envs/RTP/lib/python3.7/site-packages/h5py/_hl/files.py\u001b[0m in \u001b[0;36mmake_fid\u001b[0;34m(name, mode, userblock_size, fapl, fcpl, swmr)\u001b[0m\n\u001b[1;32m    168\u001b[0m         \u001b[0;32mif\u001b[0m \u001b[0mswmr\u001b[0m \u001b[0;32mand\u001b[0m \u001b[0mswmr_support\u001b[0m\u001b[0;34m:\u001b[0m\u001b[0;34m\u001b[0m\u001b[0;34m\u001b[0m\u001b[0m\n\u001b[1;32m    169\u001b[0m             \u001b[0mflags\u001b[0m \u001b[0;34m|=\u001b[0m \u001b[0mh5f\u001b[0m\u001b[0;34m.\u001b[0m\u001b[0mACC_SWMR_READ\u001b[0m\u001b[0;34m\u001b[0m\u001b[0;34m\u001b[0m\u001b[0m\n\u001b[0;32m--> 170\u001b[0;31m         \u001b[0mfid\u001b[0m \u001b[0;34m=\u001b[0m \u001b[0mh5f\u001b[0m\u001b[0;34m.\u001b[0m\u001b[0mopen\u001b[0m\u001b[0;34m(\u001b[0m\u001b[0mname\u001b[0m\u001b[0;34m,\u001b[0m \u001b[0mflags\u001b[0m\u001b[0;34m,\u001b[0m \u001b[0mfapl\u001b[0m\u001b[0;34m=\u001b[0m\u001b[0mfapl\u001b[0m\u001b[0;34m)\u001b[0m\u001b[0;34m\u001b[0m\u001b[0;34m\u001b[0m\u001b[0m\n\u001b[0m\u001b[1;32m    171\u001b[0m     \u001b[0;32melif\u001b[0m \u001b[0mmode\u001b[0m \u001b[0;34m==\u001b[0m \u001b[0;34m'r+'\u001b[0m\u001b[0;34m:\u001b[0m\u001b[0;34m\u001b[0m\u001b[0;34m\u001b[0m\u001b[0m\n\u001b[1;32m    172\u001b[0m         \u001b[0mfid\u001b[0m \u001b[0;34m=\u001b[0m \u001b[0mh5f\u001b[0m\u001b[0;34m.\u001b[0m\u001b[0mopen\u001b[0m\u001b[0;34m(\u001b[0m\u001b[0mname\u001b[0m\u001b[0;34m,\u001b[0m \u001b[0mh5f\u001b[0m\u001b[0;34m.\u001b[0m\u001b[0mACC_RDWR\u001b[0m\u001b[0;34m,\u001b[0m \u001b[0mfapl\u001b[0m\u001b[0;34m=\u001b[0m\u001b[0mfapl\u001b[0m\u001b[0;34m)\u001b[0m\u001b[0;34m\u001b[0m\u001b[0;34m\u001b[0m\u001b[0m\n",
      "\u001b[0;32mh5py/_objects.pyx\u001b[0m in \u001b[0;36mh5py._objects.with_phil.wrapper\u001b[0;34m()\u001b[0m\n",
      "\u001b[0;32mh5py/_objects.pyx\u001b[0m in \u001b[0;36mh5py._objects.with_phil.wrapper\u001b[0;34m()\u001b[0m\n",
      "\u001b[0;32mh5py/h5f.pyx\u001b[0m in \u001b[0;36mh5py.h5f.open\u001b[0;34m()\u001b[0m\n",
      "\u001b[0;31mOSError\u001b[0m: Unable to open file (unable to open file: name = '/mnt/sn1/zen.2459068.04918.sum.ant_metrics.hdf5', errno = 2, error message = 'No such file or directory', flags = 0, o_flags = 0)"
     ]
    }
   ],
   "source": [
    "# Load xants from ant metrics\n",
    "ant_metrics_list = [df.replace('.uvh5', '.ant_metrics.hdf5') for df in data_list]\n",
    "am_xants_dict = {}\n",
    "for amf in ant_metrics_list:\n",
    "    with h5py.File(amf, \"r\") as infile:\n",
    "        xants = infile['Metrics']['xants'][:]    \n",
    "    am_xants_dict[amf] = [(int(ant[0]), ant[1].tostring().decode('utf8').replace('n',\n",
    "                          'Jnn').replace('e', 'Jee')) for ant in xants]"
   ]
  },
  {
   "cell_type": "code",
   "execution_count": 11,
   "metadata": {
    "ExecuteTime": {
     "end_time": "2020-03-06T00:41:49.031081Z",
     "start_time": "2020-03-06T00:41:45.937Z"
    }
   },
   "outputs": [
    {
     "ename": "AssertionError",
     "evalue": "/mnt/sn1/zen.2459068.04918.sum.omni.calfits does not exist.",
     "output_type": "error",
     "traceback": [
      "\u001b[0;31m---------------------------------------------------------------------------\u001b[0m",
      "\u001b[0;31mAssertionError\u001b[0m                            Traceback (most recent call last)",
      "\u001b[0;32m<ipython-input-11-b73ed159d688>\u001b[0m in \u001b[0;36m<module>\u001b[0;34m\u001b[0m\n\u001b[1;32m      7\u001b[0m \u001b[0;34m\u001b[0m\u001b[0m\n\u001b[1;32m      8\u001b[0m \u001b[0;32mfor\u001b[0m \u001b[0mcal\u001b[0m \u001b[0;32min\u001b[0m \u001b[0mcal_list\u001b[0m\u001b[0;34m:\u001b[0m\u001b[0;34m\u001b[0m\u001b[0;34m\u001b[0m\u001b[0m\n\u001b[0;32m----> 9\u001b[0;31m     \u001b[0mhc\u001b[0m \u001b[0;34m=\u001b[0m \u001b[0mio\u001b[0m\u001b[0;34m.\u001b[0m\u001b[0mHERACal\u001b[0m\u001b[0;34m(\u001b[0m\u001b[0mcal\u001b[0m\u001b[0;34m)\u001b[0m\u001b[0;34m\u001b[0m\u001b[0;34m\u001b[0m\u001b[0m\n\u001b[0m\u001b[1;32m     10\u001b[0m     \u001b[0m_\u001b[0m\u001b[0;34m,\u001b[0m \u001b[0mflags\u001b[0m\u001b[0;34m,\u001b[0m \u001b[0mcspa\u001b[0m\u001b[0;34m,\u001b[0m \u001b[0mchisq\u001b[0m \u001b[0;34m=\u001b[0m \u001b[0mhc\u001b[0m\u001b[0;34m.\u001b[0m\u001b[0mread\u001b[0m\u001b[0;34m(\u001b[0m\u001b[0;34m)\u001b[0m\u001b[0;34m\u001b[0m\u001b[0;34m\u001b[0m\u001b[0m\n\u001b[1;32m     11\u001b[0m \u001b[0;34m\u001b[0m\u001b[0m\n",
      "\u001b[0;32m~/anaconda/envs/RTP/lib/python3.7/site-packages/hera_cal/io.py\u001b[0m in \u001b[0;36m__init__\u001b[0;34m(self, input_cal)\u001b[0m\n\u001b[1;32m     47\u001b[0m         \u001b[0;31m# parse input_data as filepath(s)\u001b[0m\u001b[0;34m\u001b[0m\u001b[0;34m\u001b[0m\u001b[0;34m\u001b[0m\u001b[0m\n\u001b[1;32m     48\u001b[0m         \u001b[0;32mif\u001b[0m \u001b[0misinstance\u001b[0m\u001b[0;34m(\u001b[0m\u001b[0minput_cal\u001b[0m\u001b[0;34m,\u001b[0m \u001b[0mstr\u001b[0m\u001b[0;34m)\u001b[0m\u001b[0;34m:\u001b[0m\u001b[0;34m\u001b[0m\u001b[0;34m\u001b[0m\u001b[0m\n\u001b[0;32m---> 49\u001b[0;31m             \u001b[0;32massert\u001b[0m \u001b[0mos\u001b[0m\u001b[0;34m.\u001b[0m\u001b[0mpath\u001b[0m\u001b[0;34m.\u001b[0m\u001b[0mexists\u001b[0m\u001b[0;34m(\u001b[0m\u001b[0minput_cal\u001b[0m\u001b[0;34m)\u001b[0m\u001b[0;34m,\u001b[0m \u001b[0;34m'{} does not exist.'\u001b[0m\u001b[0;34m.\u001b[0m\u001b[0mformat\u001b[0m\u001b[0;34m(\u001b[0m\u001b[0minput_cal\u001b[0m\u001b[0;34m)\u001b[0m\u001b[0;34m\u001b[0m\u001b[0;34m\u001b[0m\u001b[0m\n\u001b[0m\u001b[1;32m     50\u001b[0m             \u001b[0mself\u001b[0m\u001b[0;34m.\u001b[0m\u001b[0mfilepaths\u001b[0m \u001b[0;34m=\u001b[0m \u001b[0;34m[\u001b[0m\u001b[0minput_cal\u001b[0m\u001b[0;34m]\u001b[0m\u001b[0;34m\u001b[0m\u001b[0;34m\u001b[0m\u001b[0m\n\u001b[1;32m     51\u001b[0m         \u001b[0;32melif\u001b[0m \u001b[0misinstance\u001b[0m\u001b[0;34m(\u001b[0m\u001b[0minput_cal\u001b[0m\u001b[0;34m,\u001b[0m \u001b[0mcollections\u001b[0m\u001b[0;34m.\u001b[0m\u001b[0mIterable\u001b[0m\u001b[0;34m)\u001b[0m\u001b[0;34m:\u001b[0m  \u001b[0;31m# List loading\u001b[0m\u001b[0;34m\u001b[0m\u001b[0;34m\u001b[0m\u001b[0m\n",
      "\u001b[0;31mAssertionError\u001b[0m: /mnt/sn1/zen.2459068.04918.sum.omni.calfits does not exist."
     ]
    }
   ],
   "source": [
    "# Load chisq and flagging info from omnical gains\n",
    "cal_list = [df.replace('.uvh5', '.omni.calfits') for df in data_list]\n",
    "ant_flags_dict = {}\n",
    "chisq_ee_dict = {}\n",
    "chisq_nn_dict = {}\n",
    "cspa_med_dict = {}\n",
    "\n",
    "for cal in cal_list:\n",
    "    hc = io.HERACal(cal)\n",
    "    _, flags, cspa, chisq = hc.read()\n",
    "    \n",
    "    ant_flags_dict[cal] = {ant: np.all(flags[ant]) for ant in flags}\n",
    "    chisq_ee_dict[cal] = chisq['Jee']\n",
    "    chisq_nn_dict[cal] = chisq['Jnn']\n",
    "    cspa_med_dict[cal] = {ant: np.nanmedian(cspa[ant], axis=1) for ant in cspa}\n",
    "\n",
    "cspa = {ant: np.hstack([np.squeeze(cspa_med_dict[cal][ant]) / \\\n",
    "                        ~ant_flags_dict[cal][ant] for cal in cal_list]) for ant in ants}"
   ]
  },
  {
   "cell_type": "code",
   "execution_count": 12,
   "metadata": {
    "ExecuteTime": {
     "end_time": "2020-03-06T00:41:49.032022Z",
     "start_time": "2020-03-06T00:41:45.939Z"
    }
   },
   "outputs": [
    {
     "ename": "NameError",
     "evalue": "name 'cspa' is not defined",
     "output_type": "error",
     "traceback": [
      "\u001b[0;31m---------------------------------------------------------------------------\u001b[0m",
      "\u001b[0;31mNameError\u001b[0m                                 Traceback (most recent call last)",
      "\u001b[0;32m<ipython-input-12-4e3546dbec59>\u001b[0m in \u001b[0;36m<module>\u001b[0;34m\u001b[0m\n\u001b[1;32m      3\u001b[0m \u001b[0;32mfor\u001b[0m \u001b[0mpol\u001b[0m \u001b[0;32min\u001b[0m \u001b[0;34m[\u001b[0m\u001b[0;34m'Jee'\u001b[0m\u001b[0;34m,\u001b[0m \u001b[0;34m'Jnn'\u001b[0m\u001b[0;34m]\u001b[0m\u001b[0;34m:\u001b[0m\u001b[0;34m\u001b[0m\u001b[0;34m\u001b[0m\u001b[0m\n\u001b[1;32m      4\u001b[0m     min_flags = np.min([np.sum(~np.isfinite(cspa[ant])) \n\u001b[0;32m----> 5\u001b[0;31m                         for ant in cspa if ant[1] == pol])\n\u001b[0m\u001b[1;32m      6\u001b[0m     ant_candidates = sorted([ant for ant in cspa if ant[1] == pol and \n\u001b[1;32m      7\u001b[0m                              np.sum(~np.isfinite(cspa[ant])) == min_flags])\n",
      "\u001b[0;31mNameError\u001b[0m: name 'cspa' is not defined"
     ]
    }
   ],
   "source": [
    "# save middle-numbered ants with a minimal number of flags\n",
    "ants_to_save = {}\n",
    "for pol in ['Jee', 'Jnn']:\n",
    "    min_flags = np.min([np.sum(~np.isfinite(cspa[ant])) \n",
    "                        for ant in cspa if ant[1] == pol])\n",
    "    ant_candidates = sorted([ant for ant in cspa if ant[1] == pol and \n",
    "                             np.sum(~np.isfinite(cspa[ant])) == min_flags])\n",
    "    Nac = len(ant_candidates)\n",
    "    ants_to_save[pol] = ant_candidates[(Nac // 2 - 1):(Nac // 2 + 1)]\n",
    "\n",
    "# Reload omnical gains\n",
    "gain_dict = {}\n",
    "for cal in cal_list:\n",
    "    hc = io.HERACal(cal)\n",
    "    gains, _, _, _ = hc.read()\n",
    "    gain_dict[cal] = {ant: gains[ant] for pol in ants_to_save \n",
    "                      for ant in ants_to_save[pol]}\n",
    "\n",
    "gains = {ant: np.vstack([gain_dict[cal][ant] for cal in gain_dict]) \n",
    "         for pol in ants_to_save for ant in ants_to_save[pol]}    "
   ]
  },
  {
   "cell_type": "markdown",
   "metadata": {},
   "source": [
    "# Inspect Whole Day"
   ]
  },
  {
   "cell_type": "code",
   "execution_count": 13,
   "metadata": {
    "ExecuteTime": {
     "end_time": "2020-03-06T00:41:49.033038Z",
     "start_time": "2020-03-06T00:41:45.940Z"
    }
   },
   "outputs": [
    {
     "ename": "NameError",
     "evalue": "name 'lsts' is not defined",
     "output_type": "error",
     "traceback": [
      "\u001b[0;31m---------------------------------------------------------------------------\u001b[0m",
      "\u001b[0;31mNameError\u001b[0m                                 Traceback (most recent call last)",
      "\u001b[0;32m<ipython-input-13-c1d8539b5420>\u001b[0m in \u001b[0;36m<module>\u001b[0;34m\u001b[0m\n\u001b[1;32m     23\u001b[0m \u001b[0mfig\u001b[0m \u001b[0;34m=\u001b[0m \u001b[0mplt\u001b[0m\u001b[0;34m.\u001b[0m\u001b[0mfigure\u001b[0m\u001b[0;34m(\u001b[0m\u001b[0mfigsize\u001b[0m\u001b[0;34m=\u001b[0m\u001b[0;34m(\u001b[0m\u001b[0;36m14\u001b[0m\u001b[0;34m,\u001b[0m\u001b[0mlen\u001b[0m\u001b[0;34m(\u001b[0m\u001b[0mants\u001b[0m\u001b[0;34m)\u001b[0m\u001b[0;34m/\u001b[0m\u001b[0;36m4.625\u001b[0m\u001b[0;34m)\u001b[0m\u001b[0;34m)\u001b[0m\u001b[0;34m\u001b[0m\u001b[0;34m\u001b[0m\u001b[0m\n\u001b[1;32m     24\u001b[0m im = plt.imshow(exants_grid, aspect='auto', cmap=cmap, norm=norm,\n\u001b[0;32m---> 25\u001b[0;31m                 extent=[lsts[0]*12/np.pi, lsts[-1]*12/np.pi, len(ants), 0])\n\u001b[0m\u001b[1;32m     26\u001b[0m plt.yticks(np.arange(len(ants))+.5, \n\u001b[1;32m     27\u001b[0m            labels = ['{}{}'.format(ant[0], ant[1][-1]) for ant in ants]);\n",
      "\u001b[0;31mNameError\u001b[0m: name 'lsts' is not defined"
     ]
    },
    {
     "data": {
      "text/plain": [
       "<Figure size 1008x0 with 0 Axes>"
      ]
     },
     "metadata": {},
     "output_type": "display_data"
    }
   ],
   "source": [
    "# Build up exants grid\n",
    "exants_grid = np.zeros((len(ants),len(cal_list)))\n",
    "\n",
    "# 0 = no flags, 1 = apriori, 2 = ant metrics, 3 = omnical\n",
    "for f, cal in enumerate(ant_flags_dict):\n",
    "    for i, ant in enumerate(ants):\n",
    "        exants_grid[i, f] = 3.0 * np.float(ant_flags_dict[cal][ant])\n",
    "for f, amf in enumerate(am_xants_dict):\n",
    "    for i, ant in enumerate(ants):\n",
    "        if ant in am_xants_dict[amf]:\n",
    "            exants_grid[i, f] = 2.0                \n",
    "for f, mf in enumerate(apriori_exants):\n",
    "    for i, ant in enumerate(ants):\n",
    "        if ant[0] in apriori_exants[mf]:\n",
    "            exants_grid[i, f] = 1.0\n",
    "\n",
    "from mpl_toolkits.axes_grid1 import make_axes_locatable\n",
    "color_order = ['black', 'gold', 'magenta', 'cyan']\n",
    "cmap = matplotlib.colors.ListedColormap(color_order)\n",
    "bounds=np.arange(len(color_order)+1)\n",
    "norm = matplotlib.colors.BoundaryNorm(bounds, cmap.N)\n",
    "            \n",
    "fig = plt.figure(figsize=(14,len(ants)/4.625))\n",
    "im = plt.imshow(exants_grid, aspect='auto', cmap=cmap, norm=norm,\n",
    "                extent=[lsts[0]*12/np.pi, lsts[-1]*12/np.pi, len(ants), 0])\n",
    "plt.yticks(np.arange(len(ants))+.5, \n",
    "           labels = ['{}{}'.format(ant[0], ant[1][-1]) for ant in ants]);\n",
    "plt.grid(color='w', linestyle='-', linewidth=1.5, axis='y')\n",
    "plt.xlabel('LST (Hours)')\n",
    "\n",
    "divider = make_axes_locatable(plt.gca())\n",
    "cax = divider.new_vertical(size=.4, pad=0.5, pack_start=False)\n",
    "fig.add_axes(cax)\n",
    "cbar = fig.colorbar(im, cax=cax, orientation=\"horizontal\")\n",
    "cbar.set_ticks(.5 + np.arange(len(color_order)))\n",
    "cbar.set_ticklabels(['No Flags', 'Flagged A Priori', \n",
    "                     'Flagged by Ant Metrics', 'Flagged by Redcal'])"
   ]
  },
  {
   "cell_type": "markdown",
   "metadata": {},
   "source": [
    "### Figure 3: Antenna Flagging\n",
    "Shows progressive stages of flagging.\n",
    "\n",
    "\n",
    "#### OBSERVER CHECKLIST:\n",
    "* Check for new antennas that went bad but weren't in the a priori list. If these are consistently flagged, mark the antenna as \"calibration triage\""
   ]
  },
  {
   "cell_type": "code",
   "execution_count": 14,
   "metadata": {
    "ExecuteTime": {
     "end_time": "2020-03-06T00:41:49.033853Z",
     "start_time": "2020-03-06T00:41:45.942Z"
    },
    "scrolled": false
   },
   "outputs": [
    {
     "data": {
      "image/png": "[encoded data removed]",
      "text/plain": [
       "<Figure size 1152x720 with 1 Axes>"
      ]
     },
     "metadata": {
      "needs_background": "light"
     },
     "output_type": "display_data"
    }
   ],
   "source": [
    "# Plot delays\n",
    "dlys = {ant: np.hstack([dlys_dict[mf][ant] for mf in dlys_dict]) for ant in ants}\n",
    "dly_meds = {ant: np.nanmedian(dlys[ant]) for ant in dlys}\n",
    "plt.figure(figsize=(16,10))\n",
    "for ant in dlys:\n",
    "    plt.plot(lsts*12/np.pi, (dlys[ant])*1e9)\n",
    "    if np.isfinite(dly_meds[ant]):\n",
    "        plt.text(12/np.pi * (np.min(lsts) - 20*np.median(np.diff(lsts))), \n",
    "                 1e9*dly_meds[ant], '{}{}'.format(ant[0], ant[1][-1]), \n",
    "                 va='center', ha='right', fontsize=8)    \n",
    "\n",
    "plt.xlabel('LST (Hours)')\n",
    "plt.ylabel('Delay (ns)')\n",
    "plt.title('Firstcal Delays');"
   ]
  },
  {
   "cell_type": "markdown",
   "metadata": {},
   "source": [
    "### Figure 4: Firstcal Delays\n",
    "Shows solved firstcal delays. These will have an arbitrary tip/tilt and offset.\n",
    "\n",
    "\n",
    "#### OBSERVER CHECKLIST:\n",
    "* Look for outliers. All antennas should be within a few hundred ns. "
   ]
  },
  {
   "cell_type": "code",
   "execution_count": 15,
   "metadata": {
    "ExecuteTime": {
     "end_time": "2020-03-06T00:41:49.034656Z",
     "start_time": "2020-03-06T00:41:45.943Z"
    },
    "scrolled": false
   },
   "outputs": [
    {
     "ename": "RuntimeError",
     "evalue": "libpng signaled error",
     "output_type": "error",
     "traceback": [
      "\u001b[0;31m---------------------------------------------------------------------------\u001b[0m",
      "\u001b[0;31mRuntimeError\u001b[0m                              Traceback (most recent call last)",
      "\u001b[0;32m~/anaconda/envs/RTP/lib/python3.7/site-packages/IPython/core/formatters.py\u001b[0m in \u001b[0;36m__call__\u001b[0;34m(self, obj)\u001b[0m\n\u001b[1;32m    339\u001b[0m                 \u001b[0;32mpass\u001b[0m\u001b[0;34m\u001b[0m\u001b[0;34m\u001b[0m\u001b[0m\n\u001b[1;32m    340\u001b[0m             \u001b[0;32melse\u001b[0m\u001b[0;34m:\u001b[0m\u001b[0;34m\u001b[0m\u001b[0;34m\u001b[0m\u001b[0m\n\u001b[0;32m--> 341\u001b[0;31m                 \u001b[0;32mreturn\u001b[0m \u001b[0mprinter\u001b[0m\u001b[0;34m(\u001b[0m\u001b[0mobj\u001b[0m\u001b[0;34m)\u001b[0m\u001b[0;34m\u001b[0m\u001b[0;34m\u001b[0m\u001b[0m\n\u001b[0m\u001b[1;32m    342\u001b[0m             \u001b[0;31m# Finally look for special method names\u001b[0m\u001b[0;34m\u001b[0m\u001b[0;34m\u001b[0m\u001b[0;34m\u001b[0m\u001b[0m\n\u001b[1;32m    343\u001b[0m             \u001b[0mmethod\u001b[0m \u001b[0;34m=\u001b[0m \u001b[0mget_real_method\u001b[0m\u001b[0;34m(\u001b[0m\u001b[0mobj\u001b[0m\u001b[0;34m,\u001b[0m \u001b[0mself\u001b[0m\u001b[0;34m.\u001b[0m\u001b[0mprint_method\u001b[0m\u001b[0;34m)\u001b[0m\u001b[0;34m\u001b[0m\u001b[0;34m\u001b[0m\u001b[0m\n",
      "\u001b[0;32m~/anaconda/envs/RTP/lib/python3.7/site-packages/IPython/core/pylabtools.py\u001b[0m in \u001b[0;36m<lambda>\u001b[0;34m(fig)\u001b[0m\n\u001b[1;32m    242\u001b[0m \u001b[0;34m\u001b[0m\u001b[0m\n\u001b[1;32m    243\u001b[0m     \u001b[0;32mif\u001b[0m \u001b[0;34m'png'\u001b[0m \u001b[0;32min\u001b[0m \u001b[0mformats\u001b[0m\u001b[0;34m:\u001b[0m\u001b[0;34m\u001b[0m\u001b[0;34m\u001b[0m\u001b[0m\n\u001b[0;32m--> 244\u001b[0;31m         \u001b[0mpng_formatter\u001b[0m\u001b[0;34m.\u001b[0m\u001b[0mfor_type\u001b[0m\u001b[0;34m(\u001b[0m\u001b[0mFigure\u001b[0m\u001b[0;34m,\u001b[0m \u001b[0;32mlambda\u001b[0m \u001b[0mfig\u001b[0m\u001b[0;34m:\u001b[0m \u001b[0mprint_figure\u001b[0m\u001b[0;34m(\u001b[0m\u001b[0mfig\u001b[0m\u001b[0;34m,\u001b[0m \u001b[0;34m'png'\u001b[0m\u001b[0;34m,\u001b[0m \u001b[0;34m**\u001b[0m\u001b[0mkwargs\u001b[0m\u001b[0;34m)\u001b[0m\u001b[0;34m)\u001b[0m\u001b[0;34m\u001b[0m\u001b[0;34m\u001b[0m\u001b[0m\n\u001b[0m\u001b[1;32m    245\u001b[0m     \u001b[0;32mif\u001b[0m \u001b[0;34m'retina'\u001b[0m \u001b[0;32min\u001b[0m \u001b[0mformats\u001b[0m \u001b[0;32mor\u001b[0m \u001b[0;34m'png2x'\u001b[0m \u001b[0;32min\u001b[0m \u001b[0mformats\u001b[0m\u001b[0;34m:\u001b[0m\u001b[0;34m\u001b[0m\u001b[0;34m\u001b[0m\u001b[0m\n\u001b[1;32m    246\u001b[0m         \u001b[0mpng_formatter\u001b[0m\u001b[0;34m.\u001b[0m\u001b[0mfor_type\u001b[0m\u001b[0;34m(\u001b[0m\u001b[0mFigure\u001b[0m\u001b[0;34m,\u001b[0m \u001b[0;32mlambda\u001b[0m \u001b[0mfig\u001b[0m\u001b[0;34m:\u001b[0m \u001b[0mretina_figure\u001b[0m\u001b[0;34m(\u001b[0m\u001b[0mfig\u001b[0m\u001b[0;34m,\u001b[0m \u001b[0;34m**\u001b[0m\u001b[0mkwargs\u001b[0m\u001b[0;34m)\u001b[0m\u001b[0;34m)\u001b[0m\u001b[0;34m\u001b[0m\u001b[0;34m\u001b[0m\u001b[0m\n",
      "\u001b[0;32m~/anaconda/envs/RTP/lib/python3.7/site-packages/IPython/core/pylabtools.py\u001b[0m in \u001b[0;36mprint_figure\u001b[0;34m(fig, fmt, bbox_inches, **kwargs)\u001b[0m\n\u001b[1;32m    126\u001b[0m \u001b[0;34m\u001b[0m\u001b[0m\n\u001b[1;32m    127\u001b[0m     \u001b[0mbytes_io\u001b[0m \u001b[0;34m=\u001b[0m \u001b[0mBytesIO\u001b[0m\u001b[0;34m(\u001b[0m\u001b[0;34m)\u001b[0m\u001b[0;34m\u001b[0m\u001b[0;34m\u001b[0m\u001b[0m\n\u001b[0;32m--> 128\u001b[0;31m     \u001b[0mfig\u001b[0m\u001b[0;34m.\u001b[0m\u001b[0mcanvas\u001b[0m\u001b[0;34m.\u001b[0m\u001b[0mprint_figure\u001b[0m\u001b[0;34m(\u001b[0m\u001b[0mbytes_io\u001b[0m\u001b[0;34m,\u001b[0m \u001b[0;34m**\u001b[0m\u001b[0mkw\u001b[0m\u001b[0;34m)\u001b[0m\u001b[0;34m\u001b[0m\u001b[0;34m\u001b[0m\u001b[0m\n\u001b[0m\u001b[1;32m    129\u001b[0m     \u001b[0mdata\u001b[0m \u001b[0;34m=\u001b[0m \u001b[0mbytes_io\u001b[0m\u001b[0;34m.\u001b[0m\u001b[0mgetvalue\u001b[0m\u001b[0;34m(\u001b[0m\u001b[0;34m)\u001b[0m\u001b[0;34m\u001b[0m\u001b[0;34m\u001b[0m\u001b[0m\n\u001b[1;32m    130\u001b[0m     \u001b[0;32mif\u001b[0m \u001b[0mfmt\u001b[0m \u001b[0;34m==\u001b[0m \u001b[0;34m'svg'\u001b[0m\u001b[0;34m:\u001b[0m\u001b[0;34m\u001b[0m\u001b[0;34m\u001b[0m\u001b[0m\n",
      "\u001b[0;32m~/anaconda/envs/RTP/lib/python3.7/site-packages/matplotlib/backend_bases.py\u001b[0m in \u001b[0;36mprint_figure\u001b[0;34m(self, filename, dpi, facecolor, edgecolor, orientation, format, bbox_inches, **kwargs)\u001b[0m\n\u001b[1;32m   2054\u001b[0m                         \u001b[0morientation\u001b[0m\u001b[0;34m=\u001b[0m\u001b[0morientation\u001b[0m\u001b[0;34m,\u001b[0m\u001b[0;34m\u001b[0m\u001b[0;34m\u001b[0m\u001b[0m\n\u001b[1;32m   2055\u001b[0m                         \u001b[0mdryrun\u001b[0m\u001b[0;34m=\u001b[0m\u001b[0;32mTrue\u001b[0m\u001b[0;34m,\u001b[0m\u001b[0;34m\u001b[0m\u001b[0;34m\u001b[0m\u001b[0m\n\u001b[0;32m-> 2056\u001b[0;31m                         **kwargs)\n\u001b[0m\u001b[1;32m   2057\u001b[0m                     \u001b[0mrenderer\u001b[0m \u001b[0;34m=\u001b[0m \u001b[0mself\u001b[0m\u001b[0;34m.\u001b[0m\u001b[0mfigure\u001b[0m\u001b[0;34m.\u001b[0m\u001b[0m_cachedRenderer\u001b[0m\u001b[0;34m\u001b[0m\u001b[0;34m\u001b[0m\u001b[0m\n\u001b[1;32m   2058\u001b[0m                     \u001b[0mbbox_artists\u001b[0m \u001b[0;34m=\u001b[0m \u001b[0mkwargs\u001b[0m\u001b[0;34m.\u001b[0m\u001b[0mpop\u001b[0m\u001b[0;34m(\u001b[0m\u001b[0;34m\"bbox_extra_artists\"\u001b[0m\u001b[0;34m,\u001b[0m \u001b[0;32mNone\u001b[0m\u001b[0;34m)\u001b[0m\u001b[0;34m\u001b[0m\u001b[0;34m\u001b[0m\u001b[0m\n",
      "\u001b[0;32m~/anaconda/envs/RTP/lib/python3.7/site-packages/matplotlib/backends/backend_agg.py\u001b[0m in \u001b[0;36mprint_png\u001b[0;34m(self, filename_or_obj, metadata, pil_kwargs, *args, **kwargs)\u001b[0m\n\u001b[1;32m    530\u001b[0m                     \u001b[0mcbook\u001b[0m\u001b[0;34m.\u001b[0m\u001b[0mopen_file_cm\u001b[0m\u001b[0;34m(\u001b[0m\u001b[0mfilename_or_obj\u001b[0m\u001b[0;34m,\u001b[0m \u001b[0;34m\"wb\"\u001b[0m\u001b[0;34m)\u001b[0m \u001b[0;32mas\u001b[0m \u001b[0mfh\u001b[0m\u001b[0;34m:\u001b[0m\u001b[0;34m\u001b[0m\u001b[0;34m\u001b[0m\u001b[0m\n\u001b[1;32m    531\u001b[0m                 _png.write_png(renderer._renderer, fh,\n\u001b[0;32m--> 532\u001b[0;31m                                self.figure.dpi, metadata=metadata)\n\u001b[0m\u001b[1;32m    533\u001b[0m \u001b[0;34m\u001b[0m\u001b[0m\n\u001b[1;32m    534\u001b[0m     \u001b[0;32mdef\u001b[0m \u001b[0mprint_to_buffer\u001b[0m\u001b[0;34m(\u001b[0m\u001b[0mself\u001b[0m\u001b[0;34m)\u001b[0m\u001b[0;34m:\u001b[0m\u001b[0;34m\u001b[0m\u001b[0;34m\u001b[0m\u001b[0m\n",
      "\u001b[0;31mRuntimeError\u001b[0m: libpng signaled error"
     ]
    },
    {
     "data": {
      "text/plain": [
       "<Figure size 1152x0 with 1 Axes>"
      ]
     },
     "metadata": {
      "needs_background": "light"
     },
     "output_type": "display_data"
    }
   ],
   "source": [
    "# Plot offset delays\n",
    "plt.figure(figsize=(16, len(ants)/7.4))\n",
    "for n, ant in enumerate(dlys):\n",
    "    plt.plot(lsts*12/np.pi, (dlys[ant]-dly_meds[ant])*1e9 + n, label=ant)\n",
    "    plt.text(12/np.pi * (np.min(lsts) - 20*np.median(np.diff(lsts))), \n",
    "             n, '{}{}'.format(ant[0], ant[1][-1]), \n",
    "             va='center', ha='right', fontsize=8)\n",
    "# plt.legend(ncol=3)\n",
    "plt.xlabel('LST (Hours)')\n",
    "plt.ylabel('Delay with Arbitrary Offset (ns)')\n",
    "plt.title('Firstcal Delays With Arbitrary Offset');"
   ]
  },
  {
   "cell_type": "markdown",
   "metadata": {},
   "source": [
    "### Figure 5: Offset Firstcal Delays\n",
    "Same as Figure 4, but with arbitrary offsets for each antenna.\n",
    "\n",
    "\n",
    "#### OBSERVER CHECKLIST:\n",
    "* Look for antennas that exhibit wild swings (> 10 ns) in their delay over time, especially discontinuities that cannot be attributed to inconsistent antenna flagging (see Figure 3)."
   ]
  },
  {
   "cell_type": "code",
   "execution_count": 16,
   "metadata": {
    "ExecuteTime": {
     "end_time": "2020-03-06T00:41:49.035654Z",
     "start_time": "2020-03-06T00:41:45.946Z"
    },
    "scrolled": true
   },
   "outputs": [
    {
     "ename": "IndexError",
     "evalue": "list index out of range",
     "output_type": "error",
     "traceback": [
      "\u001b[0;31m---------------------------------------------------------------------------\u001b[0m",
      "\u001b[0;31mIndexError\u001b[0m                                Traceback (most recent call last)",
      "\u001b[0;32m<ipython-input-16-f4fb17f3758a>\u001b[0m in \u001b[0;36m<module>\u001b[0;34m\u001b[0m\n\u001b[1;32m      1\u001b[0m \u001b[0;31m# Figure out oc_maxiter\u001b[0m\u001b[0;34m\u001b[0m\u001b[0;34m\u001b[0m\u001b[0;34m\u001b[0m\u001b[0m\n\u001b[1;32m      2\u001b[0m \u001b[0;32mif\u001b[0m \u001b[0mnp\u001b[0m\u001b[0;34m.\u001b[0m\u001b[0mall\u001b[0m\u001b[0;34m(\u001b[0m\u001b[0;34m[\u001b[0m\u001b[0;34m'oc_maxiter'\u001b[0m \u001b[0;32min\u001b[0m \u001b[0mhistory\u001b[0m \u001b[0;32mfor\u001b[0m \u001b[0mhistory\u001b[0m \u001b[0;32min\u001b[0m \u001b[0mhistories_dict\u001b[0m\u001b[0;34m.\u001b[0m\u001b[0mvalues\u001b[0m\u001b[0;34m(\u001b[0m\u001b[0;34m)\u001b[0m\u001b[0;34m]\u001b[0m\u001b[0;34m)\u001b[0m\u001b[0;34m:\u001b[0m\u001b[0;34m\u001b[0m\u001b[0;34m\u001b[0m\u001b[0m\n\u001b[0;32m----> 3\u001b[0;31m     \u001b[0mhistory\u001b[0m \u001b[0;34m=\u001b[0m \u001b[0mlist\u001b[0m\u001b[0;34m(\u001b[0m\u001b[0mhistories_dict\u001b[0m\u001b[0;34m.\u001b[0m\u001b[0mvalues\u001b[0m\u001b[0;34m(\u001b[0m\u001b[0;34m)\u001b[0m\u001b[0;34m)\u001b[0m\u001b[0;34m[\u001b[0m\u001b[0;36m0\u001b[0m\u001b[0;34m]\u001b[0m\u001b[0;34m\u001b[0m\u001b[0;34m\u001b[0m\u001b[0m\n\u001b[0m\u001b[1;32m      4\u001b[0m     \u001b[0moc_maxiter\u001b[0m \u001b[0;34m=\u001b[0m \u001b[0mint\u001b[0m\u001b[0;34m(\u001b[0m\u001b[0mhistory\u001b[0m\u001b[0;34m.\u001b[0m\u001b[0msplit\u001b[0m\u001b[0;34m(\u001b[0m\u001b[0;34m'--oc_maxiter'\u001b[0m\u001b[0;34m)\u001b[0m\u001b[0;34m[\u001b[0m\u001b[0;36m1\u001b[0m\u001b[0;34m]\u001b[0m\u001b[0;34m.\u001b[0m\u001b[0msplit\u001b[0m\u001b[0;34m(\u001b[0m\u001b[0;34m'--'\u001b[0m\u001b[0;34m)\u001b[0m\u001b[0;34m[\u001b[0m\u001b[0;36m0\u001b[0m\u001b[0;34m]\u001b[0m\u001b[0;34m)\u001b[0m\u001b[0;34m\u001b[0m\u001b[0;34m\u001b[0m\u001b[0m\n\u001b[1;32m      5\u001b[0m \u001b[0;32melse\u001b[0m\u001b[0;34m:\u001b[0m\u001b[0;34m\u001b[0m\u001b[0;34m\u001b[0m\u001b[0m\n",
      "\u001b[0;31mIndexError\u001b[0m: list index out of range"
     ]
    }
   ],
   "source": [
    "# Figure out oc_maxiter\n",
    "if np.all(['oc_maxiter' in history for history in histories_dict.values()]):\n",
    "    history = list(histories_dict.values())[0]\n",
    "    oc_maxiter = int(history.split('--oc_maxiter')[1].split('--')[0])\n",
    "else:\n",
    "    oc_maxiter = inspect.signature(redcal.redcal_run).parameters['oc_maxiter'].default"
   ]
  },
  {
   "cell_type": "code",
   "execution_count": 17,
   "metadata": {
    "ExecuteTime": {
     "end_time": "2020-03-06T00:41:49.036359Z",
     "start_time": "2020-03-06T00:41:45.948Z"
    }
   },
   "outputs": [
    {
     "ename": "ValueError",
     "evalue": "need at least one array to concatenate",
     "output_type": "error",
     "traceback": [
      "\u001b[0;31m---------------------------------------------------------------------------\u001b[0m",
      "\u001b[0;31mValueError\u001b[0m                                Traceback (most recent call last)",
      "\u001b[0;32m<ipython-input-17-a98258f5d9d4>\u001b[0m in \u001b[0;36m<module>\u001b[0;34m\u001b[0m\n\u001b[1;32m      1\u001b[0m \u001b[0;31m# Recast from dictionaries to one big array\u001b[0m\u001b[0;34m\u001b[0m\u001b[0;34m\u001b[0m\u001b[0;34m\u001b[0m\u001b[0m\n\u001b[0;32m----> 2\u001b[0;31m \u001b[0mee_iters\u001b[0m \u001b[0;34m=\u001b[0m \u001b[0mnp\u001b[0m\u001b[0;34m.\u001b[0m\u001b[0mvstack\u001b[0m\u001b[0;34m(\u001b[0m\u001b[0mnp\u001b[0m\u001b[0;34m.\u001b[0m\u001b[0marray\u001b[0m\u001b[0;34m(\u001b[0m\u001b[0mlist\u001b[0m\u001b[0;34m(\u001b[0m\u001b[0mee_iters_dict\u001b[0m\u001b[0;34m.\u001b[0m\u001b[0mvalues\u001b[0m\u001b[0;34m(\u001b[0m\u001b[0;34m)\u001b[0m\u001b[0;34m)\u001b[0m\u001b[0;34m)\u001b[0m\u001b[0;34m)\u001b[0m\u001b[0;34m\u001b[0m\u001b[0;34m\u001b[0m\u001b[0m\n\u001b[0m\u001b[1;32m      3\u001b[0m \u001b[0mnn_iters\u001b[0m \u001b[0;34m=\u001b[0m \u001b[0mnp\u001b[0m\u001b[0;34m.\u001b[0m\u001b[0mvstack\u001b[0m\u001b[0;34m(\u001b[0m\u001b[0mnp\u001b[0m\u001b[0;34m.\u001b[0m\u001b[0marray\u001b[0m\u001b[0;34m(\u001b[0m\u001b[0mlist\u001b[0m\u001b[0;34m(\u001b[0m\u001b[0mnn_iters_dict\u001b[0m\u001b[0;34m.\u001b[0m\u001b[0mvalues\u001b[0m\u001b[0;34m(\u001b[0m\u001b[0;34m)\u001b[0m\u001b[0;34m)\u001b[0m\u001b[0;34m)\u001b[0m\u001b[0;34m)\u001b[0m\u001b[0;34m\u001b[0m\u001b[0;34m\u001b[0m\u001b[0m\n\u001b[1;32m      4\u001b[0m \u001b[0mplt\u001b[0m\u001b[0;34m.\u001b[0m\u001b[0mfigure\u001b[0m\u001b[0;34m(\u001b[0m\u001b[0mfigsize\u001b[0m\u001b[0;34m=\u001b[0m\u001b[0;34m(\u001b[0m\u001b[0;36m20\u001b[0m\u001b[0;34m,\u001b[0m\u001b[0;36m12\u001b[0m\u001b[0;34m)\u001b[0m\u001b[0;34m)\u001b[0m\u001b[0;34m\u001b[0m\u001b[0;34m\u001b[0m\u001b[0m\n\u001b[1;32m      5\u001b[0m \u001b[0;34m\u001b[0m\u001b[0m\n",
      "\u001b[0;32m<__array_function__ internals>\u001b[0m in \u001b[0;36mvstack\u001b[0;34m(*args, **kwargs)\u001b[0m\n",
      "\u001b[0;32m~/anaconda/envs/RTP/lib/python3.7/site-packages/numpy/core/shape_base.py\u001b[0m in \u001b[0;36mvstack\u001b[0;34m(tup)\u001b[0m\n\u001b[1;32m    280\u001b[0m     \u001b[0;32mif\u001b[0m \u001b[0;32mnot\u001b[0m \u001b[0misinstance\u001b[0m\u001b[0;34m(\u001b[0m\u001b[0marrs\u001b[0m\u001b[0;34m,\u001b[0m \u001b[0mlist\u001b[0m\u001b[0;34m)\u001b[0m\u001b[0;34m:\u001b[0m\u001b[0;34m\u001b[0m\u001b[0;34m\u001b[0m\u001b[0m\n\u001b[1;32m    281\u001b[0m         \u001b[0marrs\u001b[0m \u001b[0;34m=\u001b[0m \u001b[0;34m[\u001b[0m\u001b[0marrs\u001b[0m\u001b[0;34m]\u001b[0m\u001b[0;34m\u001b[0m\u001b[0;34m\u001b[0m\u001b[0m\n\u001b[0;32m--> 282\u001b[0;31m     \u001b[0;32mreturn\u001b[0m \u001b[0m_nx\u001b[0m\u001b[0;34m.\u001b[0m\u001b[0mconcatenate\u001b[0m\u001b[0;34m(\u001b[0m\u001b[0marrs\u001b[0m\u001b[0;34m,\u001b[0m \u001b[0;36m0\u001b[0m\u001b[0;34m)\u001b[0m\u001b[0;34m\u001b[0m\u001b[0;34m\u001b[0m\u001b[0m\n\u001b[0m\u001b[1;32m    283\u001b[0m \u001b[0;34m\u001b[0m\u001b[0m\n\u001b[1;32m    284\u001b[0m \u001b[0;34m\u001b[0m\u001b[0m\n",
      "\u001b[0;32m<__array_function__ internals>\u001b[0m in \u001b[0;36mconcatenate\u001b[0;34m(*args, **kwargs)\u001b[0m\n",
      "\u001b[0;31mValueError\u001b[0m: need at least one array to concatenate"
     ]
    }
   ],
   "source": [
    "# Recast from dictionaries to one big array\n",
    "ee_iters = np.vstack(np.array(list(ee_iters_dict.values())))\n",
    "nn_iters = np.vstack(np.array(list(nn_iters_dict.values())))\n",
    "plt.figure(figsize=(20,12))\n",
    "\n",
    "my_cmap = deepcopy(matplotlib.cm.get_cmap('viridis'))\n",
    "my_cmap.set_under('w')\n",
    "my_cmap.set_over('r')\n",
    "\n",
    "for sp, iters, t in zip([121, 122], [ee_iters, nn_iters], \n",
    "                        ['ee-polarized', 'nn-polarized']):\n",
    "    plt.subplot(sp)\n",
    "    plt.imshow(iters, aspect='auto', cmap=my_cmap, vmin=1, vmax=oc_maxiter-1,\n",
    "               extent=[freqs[0]/1e6, freqs[-1]/1e6, \n",
    "                       lsts[-1]*12/np.pi, lsts[0]*12/np.pi])\n",
    "    plt.title('Number of Omnical Iterations: ' + t)\n",
    "    plt.xlabel('Frequency (MHz)')\n",
    "    plt.ylabel('LST (Hours)')    \n",
    "    plt.colorbar()"
   ]
  },
  {
   "cell_type": "markdown",
   "metadata": {},
   "source": [
    "### Figure 6: Number of omnical iterations per polarization\n",
    "Red indicates that omnical reached the maximum number of integrations. White indicates that omnical didn't run, likely because the data were flagged.\n",
    "\n",
    "\n",
    "#### OBSERVER CHECKLIST:\n",
    "* Check that few-to-no data were flagged (white) before omnical and check that this matches\n",
    "* Check that few-to-no data hit the maximum number of iterations for omnical (red)"
   ]
  },
  {
   "cell_type": "code",
   "execution_count": 18,
   "metadata": {
    "ExecuteTime": {
     "end_time": "2020-03-06T00:41:49.037207Z",
     "start_time": "2020-03-06T00:41:45.949Z"
    },
    "code_folding": []
   },
   "outputs": [
    {
     "ename": "KeyError",
     "evalue": "(130, 'Jee')",
     "output_type": "error",
     "traceback": [
      "\u001b[0;31m---------------------------------------------------------------------------\u001b[0m",
      "\u001b[0;31mKeyError\u001b[0m                                  Traceback (most recent call last)",
      "\u001b[0;32m<ipython-input-18-0e8110d28cfe>\u001b[0m in \u001b[0;36m<module>\u001b[0;34m\u001b[0m\n\u001b[1;32m     10\u001b[0m                 c='w', s=0)\n\u001b[1;32m     11\u001b[0m     \u001b[0;32mfor\u001b[0m \u001b[0mant\u001b[0m\u001b[0;34m,\u001b[0m\u001b[0mpos\u001b[0m \u001b[0;32min\u001b[0m \u001b[0mhd\u001b[0m\u001b[0;34m.\u001b[0m\u001b[0mantpos\u001b[0m\u001b[0;34m.\u001b[0m\u001b[0mitems\u001b[0m\u001b[0;34m(\u001b[0m\u001b[0;34m)\u001b[0m\u001b[0;34m:\u001b[0m\u001b[0;34m\u001b[0m\u001b[0;34m\u001b[0m\u001b[0m\n\u001b[0;32m---> 12\u001b[0;31m         \u001b[0mflip_frac\u001b[0m \u001b[0;34m=\u001b[0m \u001b[0mnp\u001b[0m\u001b[0;34m.\u001b[0m\u001b[0mnanmean\u001b[0m\u001b[0;34m(\u001b[0m\u001b[0mflips\u001b[0m\u001b[0;34m[\u001b[0m\u001b[0;34m(\u001b[0m\u001b[0mant\u001b[0m\u001b[0;34m,\u001b[0m \u001b[0mjpol\u001b[0m\u001b[0;34m)\u001b[0m\u001b[0;34m]\u001b[0m\u001b[0;34m)\u001b[0m\u001b[0;34m\u001b[0m\u001b[0;34m\u001b[0m\u001b[0m\n\u001b[0m\u001b[1;32m     13\u001b[0m         \u001b[0;32mif\u001b[0m \u001b[0mnp\u001b[0m\u001b[0;34m.\u001b[0m\u001b[0misfinite\u001b[0m\u001b[0;34m(\u001b[0m\u001b[0mflip_frac\u001b[0m\u001b[0;34m)\u001b[0m\u001b[0;34m:\u001b[0m\u001b[0;34m\u001b[0m\u001b[0;34m\u001b[0m\u001b[0m\n\u001b[1;32m     14\u001b[0m             \u001b[0mcolor\u001b[0m\u001b[0;34m=\u001b[0m\u001b[0mmy_cmap\u001b[0m\u001b[0;34m(\u001b[0m\u001b[0mflip_frac\u001b[0m\u001b[0;34m)\u001b[0m\u001b[0;34m\u001b[0m\u001b[0;34m\u001b[0m\u001b[0m\n",
      "\u001b[0;31mKeyError\u001b[0m: (130, 'Jee')"
     ]
    },
    {
     "data": {
      "image/png": "[encoded data removed]",
      "text/plain": [
       "<Figure size 1152x576 with 1 Axes>"
      ]
     },
     "metadata": {
      "needs_background": "light"
     },
     "output_type": "display_data"
    }
   ],
   "source": [
    "# Make dictionary mapping antenna to the whole night of antenna flips\n",
    "flips = {ant: np.hstack([flips_dict[mf][ant] for mf in flips_dict]) for ant in ants}\n",
    "\n",
    "plt.figure(figsize=(16,8))\n",
    "my_cmap = matplotlib.cm.get_cmap('cool')\n",
    "for sp, jpol, t in zip([121, 122], ['Jee', 'Jnn'], ['ee-polarized ', 'nn-polarized']):\n",
    "    plt.subplot(sp)\n",
    "    plt.scatter(np.array(list(hd.antpos.values()))[:,0], \n",
    "                np.array(list(hd.antpos.values()))[:,1],\n",
    "                c='w', s=0)\n",
    "    for ant,pos in hd.antpos.items():\n",
    "        flip_frac = np.nanmean(flips[(ant, jpol)])\n",
    "        if np.isfinite(flip_frac):\n",
    "            color=my_cmap(flip_frac)\n",
    "        else:\n",
    "            color='w'\n",
    "        plt.gca().add_artist(plt.Circle(tuple(pos[0:2]), radius=7, \n",
    "                                        fill=(~bad), color=color, ec='k'))\n",
    "        plt.text(pos[0], pos[1],\n",
    "                 '{}:\\n{}%'.format(ant, np.round(100*flip_frac,0)), \n",
    "                 va='center', ha='center', color='k')\n",
    "    plt.xlabel(\"Antenna East-West Position (meters)\")\n",
    "    plt.ylabel(\"Antenna North-South Position (meters)\")\n",
    "    \n",
    "    # count the number of times a self-consistent polarity flip solution was found\n",
    "    all_flips_this_pol = [flips[ant] for ant in flips if ant[1] == jpol]\n",
    "    success = np.round(100*np.mean(np.any(np.isfinite(all_flips_this_pol), axis=0)), 2)\n",
    "    plt.title(t + ' Polarity Flips -- Solution Found {}% of the Time'.format(success))\n",
    "    plt.axis('equal')\n",
    "    plt.tight_layout()"
   ]
  },
  {
   "cell_type": "markdown",
   "metadata": {},
   "source": [
    "### Figure 7: Detection of polarity-flipped antennas\n",
    "Blue indicates nominal operation, pink indicates polarity flips. \n",
    "\n",
    "\n",
    "#### OBSERVER CHECKLIST:\n",
    "* Check that all antennas are either nearly 100% flipped, nearly 0% flipped, or flagged.\n",
    "* Check that a solution for polarity flips was found a reasonable percentage of the time (ideally more than a few %)"
   ]
  },
  {
   "cell_type": "code",
   "execution_count": 19,
   "metadata": {
    "ExecuteTime": {
     "end_time": "2020-03-06T00:41:49.038066Z",
     "start_time": "2020-03-06T00:41:45.951Z"
    }
   },
   "outputs": [
    {
     "ename": "ValueError",
     "evalue": "need at least one array to concatenate",
     "output_type": "error",
     "traceback": [
      "\u001b[0;31m---------------------------------------------------------------------------\u001b[0m",
      "\u001b[0;31mValueError\u001b[0m                                Traceback (most recent call last)",
      "\u001b[0;32m<ipython-input-19-4fad34f8ad72>\u001b[0m in \u001b[0;36m<module>\u001b[0;34m\u001b[0m\n\u001b[1;32m      1\u001b[0m \u001b[0;31m# Grid and plot overall chi^2 for each polarization\u001b[0m\u001b[0;34m\u001b[0m\u001b[0;34m\u001b[0m\u001b[0;34m\u001b[0m\u001b[0m\n\u001b[0;32m----> 2\u001b[0;31m \u001b[0mee_chisq\u001b[0m \u001b[0;34m=\u001b[0m \u001b[0mnp\u001b[0m\u001b[0;34m.\u001b[0m\u001b[0mvstack\u001b[0m\u001b[0;34m(\u001b[0m\u001b[0mnp\u001b[0m\u001b[0;34m.\u001b[0m\u001b[0marray\u001b[0m\u001b[0;34m(\u001b[0m\u001b[0mlist\u001b[0m\u001b[0;34m(\u001b[0m\u001b[0mchisq_ee_dict\u001b[0m\u001b[0;34m.\u001b[0m\u001b[0mvalues\u001b[0m\u001b[0;34m(\u001b[0m\u001b[0;34m)\u001b[0m\u001b[0;34m)\u001b[0m\u001b[0;34m)\u001b[0m\u001b[0;34m)\u001b[0m\u001b[0;34m\u001b[0m\u001b[0;34m\u001b[0m\u001b[0m\n\u001b[0m\u001b[1;32m      3\u001b[0m \u001b[0mnn_chisq\u001b[0m \u001b[0;34m=\u001b[0m \u001b[0mnp\u001b[0m\u001b[0;34m.\u001b[0m\u001b[0mvstack\u001b[0m\u001b[0;34m(\u001b[0m\u001b[0mnp\u001b[0m\u001b[0;34m.\u001b[0m\u001b[0marray\u001b[0m\u001b[0;34m(\u001b[0m\u001b[0mlist\u001b[0m\u001b[0;34m(\u001b[0m\u001b[0mchisq_nn_dict\u001b[0m\u001b[0;34m.\u001b[0m\u001b[0mvalues\u001b[0m\u001b[0;34m(\u001b[0m\u001b[0;34m)\u001b[0m\u001b[0;34m)\u001b[0m\u001b[0;34m)\u001b[0m\u001b[0;34m)\u001b[0m\u001b[0;34m\u001b[0m\u001b[0;34m\u001b[0m\u001b[0m\n\u001b[1;32m      4\u001b[0m \u001b[0mplt\u001b[0m\u001b[0;34m.\u001b[0m\u001b[0mfigure\u001b[0m\u001b[0;34m(\u001b[0m\u001b[0mfigsize\u001b[0m\u001b[0;34m=\u001b[0m\u001b[0;34m(\u001b[0m\u001b[0;36m20\u001b[0m\u001b[0;34m,\u001b[0m\u001b[0;36m12\u001b[0m\u001b[0;34m)\u001b[0m\u001b[0;34m)\u001b[0m\u001b[0;34m\u001b[0m\u001b[0;34m\u001b[0m\u001b[0m\n\u001b[1;32m      5\u001b[0m \u001b[0;34m\u001b[0m\u001b[0m\n",
      "\u001b[0;32m<__array_function__ internals>\u001b[0m in \u001b[0;36mvstack\u001b[0;34m(*args, **kwargs)\u001b[0m\n",
      "\u001b[0;32m~/anaconda/envs/RTP/lib/python3.7/site-packages/numpy/core/shape_base.py\u001b[0m in \u001b[0;36mvstack\u001b[0;34m(tup)\u001b[0m\n\u001b[1;32m    280\u001b[0m     \u001b[0;32mif\u001b[0m \u001b[0;32mnot\u001b[0m \u001b[0misinstance\u001b[0m\u001b[0;34m(\u001b[0m\u001b[0marrs\u001b[0m\u001b[0;34m,\u001b[0m \u001b[0mlist\u001b[0m\u001b[0;34m)\u001b[0m\u001b[0;34m:\u001b[0m\u001b[0;34m\u001b[0m\u001b[0;34m\u001b[0m\u001b[0m\n\u001b[1;32m    281\u001b[0m         \u001b[0marrs\u001b[0m \u001b[0;34m=\u001b[0m \u001b[0;34m[\u001b[0m\u001b[0marrs\u001b[0m\u001b[0;34m]\u001b[0m\u001b[0;34m\u001b[0m\u001b[0;34m\u001b[0m\u001b[0m\n\u001b[0;32m--> 282\u001b[0;31m     \u001b[0;32mreturn\u001b[0m \u001b[0m_nx\u001b[0m\u001b[0;34m.\u001b[0m\u001b[0mconcatenate\u001b[0m\u001b[0;34m(\u001b[0m\u001b[0marrs\u001b[0m\u001b[0;34m,\u001b[0m \u001b[0;36m0\u001b[0m\u001b[0;34m)\u001b[0m\u001b[0;34m\u001b[0m\u001b[0;34m\u001b[0m\u001b[0m\n\u001b[0m\u001b[1;32m    283\u001b[0m \u001b[0;34m\u001b[0m\u001b[0m\n\u001b[1;32m    284\u001b[0m \u001b[0;34m\u001b[0m\u001b[0m\n",
      "\u001b[0;32m<__array_function__ internals>\u001b[0m in \u001b[0;36mconcatenate\u001b[0;34m(*args, **kwargs)\u001b[0m\n",
      "\u001b[0;31mValueError\u001b[0m: need at least one array to concatenate"
     ]
    }
   ],
   "source": [
    "# Grid and plot overall chi^2 for each polarization\n",
    "ee_chisq = np.vstack(np.array(list(chisq_ee_dict.values())))\n",
    "nn_chisq = np.vstack(np.array(list(chisq_nn_dict.values())))\n",
    "plt.figure(figsize=(20,12))\n",
    "\n",
    "for sp, cs, t in zip([121, 122], [ee_chisq, nn_chisq], ['ee-polarized', 'nn-polarized']):\n",
    "    plt.subplot(sp)\n",
    "    plt.imshow(cs, aspect='auto', vmin=1, cmap='inferno', vmax=5,\n",
    "               extent=[freqs[0]/1e6, freqs[-1]/1e6, lsts[-1]*12/np.pi, lsts[0]*12/np.pi])\n",
    "    plt.title('Overall $\\chi^2$ / DoF: ' + t)\n",
    "    plt.xlabel('Frequency (MHz)')\n",
    "    plt.ylabel('LST (Hours)')        \n",
    "    plt.colorbar()\n",
    "    "
   ]
  },
  {
   "cell_type": "markdown",
   "metadata": {
    "ExecuteTime": {
     "end_time": "2020-03-05T01:22:42.634940Z",
     "start_time": "2020-03-05T01:22:42.627959Z"
    }
   },
   "source": [
    "### Figure 8: Overall $\\chi^2$ / DoF\n",
    "\n",
    "\n",
    "#### OBSERVER CHECKLIST:\n",
    "* Looks for regions of large non-redundancy not directly attributable to RFI."
   ]
  },
  {
   "cell_type": "code",
   "execution_count": 20,
   "metadata": {
    "ExecuteTime": {
     "end_time": "2020-03-06T00:41:49.038879Z",
     "start_time": "2020-03-06T00:41:45.953Z"
    }
   },
   "outputs": [
    {
     "name": "stderr",
     "output_type": "stream",
     "text": [
      "No handles with labels found to put in legend.\n",
      "No handles with labels found to put in legend.\n"
     ]
    },
    {
     "data": {
      "image/png": "[encoded data removed]",
      "text/plain": [
       "<Figure size 1440x720 with 2 Axes>"
      ]
     },
     "metadata": {
      "needs_background": "light"
     },
     "output_type": "display_data"
    }
   ],
   "source": [
    "# plot all chi^2 per antenna, highlight antennas that get flagged but not always\n",
    "plt.figure(figsize=(20,10))\n",
    "for sp, pol, t in zip([121, 122], ['Jee', 'Jnn'], ['ee-polarized', 'nn-polarized']):\n",
    "    plt.subplot(sp)\n",
    "    for ant in ants:\n",
    "        if ant[1] == pol:\n",
    "            if not np.all([ant_flags_dict[cal][ant] for cal in cal_list]):\n",
    "                if np.any([ant_flags_dict[cal][ant] and \n",
    "                           not np.all(list(ant_flags_dict[cal].values())) \n",
    "                           for cal in cal_list]):\n",
    "                    plt.plot(lsts*12/np.pi, cspa[ant], '.', label=ant)\n",
    "                else:\n",
    "                    plt.plot(lsts*12/np.pi, cspa[ant], '-', c='grey', alpha=.5, lw=.25)\n",
    "    plt.ylabel('Normalized Median $\\chi^2$ per Antenna (unitless)')\n",
    "    plt.xlabel('LST (Hours)')\n",
    "    plt.title(t + ' Antennas')\n",
    "    plt.legend()"
   ]
  },
  {
   "cell_type": "markdown",
   "metadata": {
    "ExecuteTime": {
     "end_time": "2020-03-05T02:00:57.870280Z",
     "start_time": "2020-03-05T02:00:57.863637Z"
    }
   },
   "source": [
    "### Figure 9: Normalized $\\chi^2$ per antenna\n",
    "Only unflagged data is shown, but antennas that were ever flagged are colored and shown in the legend. All other antennas are shown in grey.\n",
    "\n",
    "#### OBSERVER CHECKLIST:\n",
    "* Look for outliers in the chi^2 per antenna distribution\n",
    "* Look for evidence that antenna that was sometimes flagged should have been always flagged. "
   ]
  },
  {
   "cell_type": "code",
   "execution_count": 21,
   "metadata": {
    "ExecuteTime": {
     "end_time": "2020-03-06T00:41:49.039895Z",
     "start_time": "2020-03-06T00:41:45.955Z"
    }
   },
   "outputs": [
    {
     "ename": "KeyError",
     "evalue": "'Jee'",
     "output_type": "error",
     "traceback": [
      "\u001b[0;31m---------------------------------------------------------------------------\u001b[0m",
      "\u001b[0;31mKeyError\u001b[0m                                  Traceback (most recent call last)",
      "\u001b[0;32m<ipython-input-21-747286bcd69c>\u001b[0m in \u001b[0;36m<module>\u001b[0;34m\u001b[0m\n\u001b[1;32m      3\u001b[0m \u001b[0;32mfor\u001b[0m \u001b[0msp\u001b[0m\u001b[0;34m,\u001b[0m \u001b[0mpol\u001b[0m \u001b[0;32min\u001b[0m \u001b[0mzip\u001b[0m\u001b[0;34m(\u001b[0m\u001b[0;34m[\u001b[0m\u001b[0;36m121\u001b[0m\u001b[0;34m,\u001b[0m \u001b[0;36m122\u001b[0m\u001b[0;34m]\u001b[0m\u001b[0;34m,\u001b[0m \u001b[0;34m[\u001b[0m\u001b[0;34m'Jee'\u001b[0m\u001b[0;34m,\u001b[0m \u001b[0;34m'Jnn'\u001b[0m\u001b[0;34m]\u001b[0m\u001b[0;34m)\u001b[0m\u001b[0;34m:\u001b[0m\u001b[0;34m\u001b[0m\u001b[0;34m\u001b[0m\u001b[0m\n\u001b[1;32m      4\u001b[0m     \u001b[0mplt\u001b[0m\u001b[0;34m.\u001b[0m\u001b[0msubplot\u001b[0m\u001b[0;34m(\u001b[0m\u001b[0msp\u001b[0m\u001b[0;34m)\u001b[0m\u001b[0;34m\u001b[0m\u001b[0;34m\u001b[0m\u001b[0m\n\u001b[0;32m----> 5\u001b[0;31m     \u001b[0mant\u001b[0m \u001b[0;34m=\u001b[0m \u001b[0mants_to_save\u001b[0m\u001b[0;34m[\u001b[0m\u001b[0mpol\u001b[0m\u001b[0;34m]\u001b[0m\u001b[0;34m[\u001b[0m\u001b[0;36m1\u001b[0m\u001b[0;34m]\u001b[0m\u001b[0;34m\u001b[0m\u001b[0;34m\u001b[0m\u001b[0m\n\u001b[0m\u001b[1;32m      6\u001b[0m     \u001b[0mplt\u001b[0m\u001b[0;34m.\u001b[0m\u001b[0mtitle\u001b[0m\u001b[0;34m(\u001b[0m\u001b[0mstr\u001b[0m\u001b[0;34m(\u001b[0m\u001b[0mant\u001b[0m\u001b[0;34m)\u001b[0m \u001b[0;34m+\u001b[0m \u001b[0;34m' Gain Magnitude'\u001b[0m\u001b[0;34m)\u001b[0m\u001b[0;34m\u001b[0m\u001b[0;34m\u001b[0m\u001b[0m\n\u001b[1;32m      7\u001b[0m     plt.imshow(np.abs(gains[ant]), aspect='auto', cmap='inferno',\n",
      "\u001b[0;31mKeyError\u001b[0m: 'Jee'"
     ]
    },
    {
     "data": {
      "image/png": "[encoded data removed]",
      "text/plain": [
       "<Figure size 1440x864 with 1 Axes>"
      ]
     },
     "metadata": {
      "needs_background": "light"
     },
     "output_type": "display_data"
    }
   ],
   "source": [
    "# Plot example gain amplitudes\n",
    "plt.figure(figsize=(20,12))\n",
    "for sp, pol in zip([121, 122], ['Jee', 'Jnn']):\n",
    "    plt.subplot(sp)\n",
    "    ant = ants_to_save[pol][1]\n",
    "    plt.title(str(ant) + ' Gain Magnitude')\n",
    "    plt.imshow(np.abs(gains[ant]), aspect='auto', cmap='inferno',\n",
    "               extent=[freqs[0]/1e6, freqs[-1]/1e6, lsts[-1]*12/np.pi, lsts[0]*12/np.pi])\n",
    "    plt.clim([0,2])\n",
    "    plt.colorbar()\n",
    "    plt.xlabel('Frequency (MHz)')\n",
    "    plt.ylabel('LST (Hours)')        "
   ]
  },
  {
   "cell_type": "markdown",
   "metadata": {},
   "source": [
    "### Figure 10: Example Amplitudes\n",
    "\n",
    "\n",
    "#### OBSERVER CHECKLIST:\n",
    "* Looks for large discontinuities or fuzziness not attributable to RFI"
   ]
  },
  {
   "cell_type": "code",
   "execution_count": 22,
   "metadata": {
    "ExecuteTime": {
     "end_time": "2020-03-06T00:41:49.040716Z",
     "start_time": "2020-03-06T00:41:45.956Z"
    }
   },
   "outputs": [
    {
     "ename": "KeyError",
     "evalue": "'Jee'",
     "output_type": "error",
     "traceback": [
      "\u001b[0;31m---------------------------------------------------------------------------\u001b[0m",
      "\u001b[0;31mKeyError\u001b[0m                                  Traceback (most recent call last)",
      "\u001b[0;32m<ipython-input-22-473f8a48a114>\u001b[0m in \u001b[0;36m<module>\u001b[0;34m\u001b[0m\n\u001b[1;32m      3\u001b[0m \u001b[0;32mfor\u001b[0m \u001b[0msp\u001b[0m\u001b[0;34m,\u001b[0m \u001b[0mpol\u001b[0m \u001b[0;32min\u001b[0m \u001b[0mzip\u001b[0m\u001b[0;34m(\u001b[0m\u001b[0;34m[\u001b[0m\u001b[0;36m121\u001b[0m\u001b[0;34m,\u001b[0m \u001b[0;36m122\u001b[0m\u001b[0;34m]\u001b[0m\u001b[0;34m,\u001b[0m \u001b[0;34m[\u001b[0m\u001b[0;34m'Jee'\u001b[0m\u001b[0;34m,\u001b[0m \u001b[0;34m'Jnn'\u001b[0m\u001b[0;34m]\u001b[0m\u001b[0;34m)\u001b[0m\u001b[0;34m:\u001b[0m\u001b[0;34m\u001b[0m\u001b[0;34m\u001b[0m\u001b[0m\n\u001b[1;32m      4\u001b[0m     \u001b[0mplt\u001b[0m\u001b[0;34m.\u001b[0m\u001b[0msubplot\u001b[0m\u001b[0;34m(\u001b[0m\u001b[0msp\u001b[0m\u001b[0;34m)\u001b[0m\u001b[0;34m\u001b[0m\u001b[0;34m\u001b[0m\u001b[0m\n\u001b[0;32m----> 5\u001b[0;31m     \u001b[0mant0\u001b[0m\u001b[0;34m,\u001b[0m \u001b[0mant1\u001b[0m \u001b[0;34m=\u001b[0m \u001b[0mants_to_save\u001b[0m\u001b[0;34m[\u001b[0m\u001b[0mpol\u001b[0m\u001b[0;34m]\u001b[0m\u001b[0;34m\u001b[0m\u001b[0;34m\u001b[0m\u001b[0m\n\u001b[0m\u001b[1;32m      6\u001b[0m     \u001b[0mplt\u001b[0m\u001b[0;34m.\u001b[0m\u001b[0mtitle\u001b[0m\u001b[0;34m(\u001b[0m\u001b[0;34m'Angle of gains[{}] / gains[{}]'\u001b[0m\u001b[0;34m.\u001b[0m\u001b[0mformat\u001b[0m\u001b[0;34m(\u001b[0m\u001b[0mant0\u001b[0m\u001b[0;34m,\u001b[0m \u001b[0mant1\u001b[0m\u001b[0;34m)\u001b[0m\u001b[0;34m)\u001b[0m\u001b[0;34m\u001b[0m\u001b[0;34m\u001b[0m\u001b[0m\n\u001b[1;32m      7\u001b[0m     plt.imshow(np.angle(gains[ant0] / gains[ant1]), aspect='auto', cmap='twilight',\n",
      "\u001b[0;31mKeyError\u001b[0m: 'Jee'"
     ]
    },
    {
     "data": {
      "image/png": "[encoded data removed]",
      "text/plain": [
       "<Figure size 1440x864 with 1 Axes>"
      ]
     },
     "metadata": {
      "needs_background": "light"
     },
     "output_type": "display_data"
    }
   ],
   "source": [
    "# Plot example gain relative phases\n",
    "plt.figure(figsize=(20,12))\n",
    "for sp, pol in zip([121, 122], ['Jee', 'Jnn']):\n",
    "    plt.subplot(sp)\n",
    "    ant0, ant1 = ants_to_save[pol]\n",
    "    plt.title('Angle of gains[{}] / gains[{}]'.format(ant0, ant1))\n",
    "    plt.imshow(np.angle(gains[ant0] / gains[ant1]), aspect='auto', cmap='twilight',\n",
    "               extent=[freqs[0]/1e6, freqs[-1]/1e6, lsts[-1]*12/np.pi, lsts[0]*12/np.pi])\n",
    "    plt.colorbar()\n",
    "    plt.xlabel('Frequency (MHz)')\n",
    "    plt.ylabel('LST (Hours)')        "
   ]
  },
  {
   "cell_type": "markdown",
   "metadata": {},
   "source": [
    "### Figure 11: Example Gain Phases\n",
    "Relative gain phases of two example antennas.\n",
    "\n",
    "#### OBSERVER CHECKLIST:\n",
    "* Check that these gains are relatively stable in time and that there aren't huge phase discontinuities."
   ]
  },
  {
   "cell_type": "markdown",
   "metadata": {},
   "source": [
    "# Metadata"
   ]
  },
  {
   "cell_type": "code",
   "execution_count": 23,
   "metadata": {},
   "outputs": [
    {
     "name": "stdout",
     "output_type": "stream",
     "text": [
      "\n",
      "------------\n",
      "This file was produced by the function <module>() in <ipython-input-23-c6de44361328> using: \n",
      "    git_branch: master\n",
      "    git_description: v3.0-272-gc704901\n",
      "    git_hash: c704901d45104e8d61f5015afac5f222bf36cdcf\n",
      "    git_origin: https://github.com/HERA-Team/hera_cal.git\n",
      "    version: 3.0\n",
      "------------\n",
      "\n"
     ]
    }
   ],
   "source": [
    "print(redcal.version.history_string())"
   ]
  }
 ],
 "metadata": {
  "kernelspec": {
   "display_name": "Python 3",
   "language": "python",
   "name": "python3"
  },
  "language_info": {
   "codemirror_mode": {
    "name": "ipython",
    "version": 3
   },
   "file_extension": ".py",
   "mimetype": "text/x-python",
   "name": "python",
   "nbconvert_exporter": "python",
   "pygments_lexer": "ipython3",
   "version": "3.7.4"
  },
  "toc": {
   "base_numbering": 1,
   "nav_menu": {},
   "number_sections": false,
   "sideBar": true,
   "skip_h1_title": false,
   "title_cell": "Table of Contents",
   "title_sidebar": "Contents",
   "toc_cell": false,
   "toc_position": {},
   "toc_section_display": true,
   "toc_window_display": false
  }
 },
 "nbformat": 4,
 "nbformat_minor": 2
}
